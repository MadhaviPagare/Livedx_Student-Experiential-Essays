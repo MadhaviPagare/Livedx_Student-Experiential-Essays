{
 "cells": [
  {
   "cell_type": "code",
   "execution_count": 198,
   "id": "e051be85",
   "metadata": {},
   "outputs": [
    {
     "name": "stdout",
     "output_type": "stream",
     "text": [
      "Requirement already satisfied: tensorflow in c:\\users\\madha\\anaconda3\\anaconda\\lib\\site-packages (2.12.0)\n",
      "Requirement already satisfied: tensorflow-intel==2.12.0 in c:\\users\\madha\\anaconda3\\anaconda\\lib\\site-packages (from tensorflow) (2.12.0)\n",
      "Requirement already satisfied: google-pasta>=0.1.1 in c:\\users\\madha\\anaconda3\\anaconda\\lib\\site-packages (from tensorflow-intel==2.12.0->tensorflow) (0.2.0)\n",
      "Requirement already satisfied: tensorboard<2.13,>=2.12 in c:\\users\\madha\\anaconda3\\anaconda\\lib\\site-packages (from tensorflow-intel==2.12.0->tensorflow) (2.12.3)\n",
      "Requirement already satisfied: keras<2.13,>=2.12.0 in c:\\users\\madha\\anaconda3\\anaconda\\lib\\site-packages (from tensorflow-intel==2.12.0->tensorflow) (2.12.0)\n",
      "Requirement already satisfied: absl-py>=1.0.0 in c:\\users\\madha\\anaconda3\\anaconda\\lib\\site-packages (from tensorflow-intel==2.12.0->tensorflow) (1.4.0)\n",
      "Requirement already satisfied: tensorflow-io-gcs-filesystem>=0.23.1 in c:\\users\\madha\\anaconda3\\anaconda\\lib\\site-packages (from tensorflow-intel==2.12.0->tensorflow) (0.31.0)\n",
      "Requirement already satisfied: grpcio<2.0,>=1.24.3 in c:\\users\\madha\\anaconda3\\anaconda\\lib\\site-packages (from tensorflow-intel==2.12.0->tensorflow) (1.53.0)\n",
      "Requirement already satisfied: flatbuffers>=2.0 in c:\\users\\madha\\anaconda3\\anaconda\\lib\\site-packages (from tensorflow-intel==2.12.0->tensorflow) (23.5.26)\n",
      "Requirement already satisfied: six>=1.12.0 in c:\\users\\madha\\anaconda3\\anaconda\\lib\\site-packages (from tensorflow-intel==2.12.0->tensorflow) (1.16.0)\n",
      "Requirement already satisfied: h5py>=2.9.0 in c:\\users\\madha\\anaconda3\\anaconda\\lib\\site-packages (from tensorflow-intel==2.12.0->tensorflow) (3.7.0)\n",
      "Requirement already satisfied: astunparse>=1.6.0 in c:\\users\\madha\\anaconda3\\anaconda\\lib\\site-packages (from tensorflow-intel==2.12.0->tensorflow) (1.6.3)\n",
      "Requirement already satisfied: opt-einsum>=2.3.2 in c:\\users\\madha\\anaconda3\\anaconda\\lib\\site-packages (from tensorflow-intel==2.12.0->tensorflow) (3.3.0)\n",
      "Requirement already satisfied: libclang>=13.0.0 in c:\\users\\madha\\anaconda3\\anaconda\\lib\\site-packages (from tensorflow-intel==2.12.0->tensorflow) (16.0.0)\n",
      "Requirement already satisfied: termcolor>=1.1.0 in c:\\users\\madha\\anaconda3\\anaconda\\lib\\site-packages (from tensorflow-intel==2.12.0->tensorflow) (2.3.0)\n",
      "Requirement already satisfied: wrapt<1.15,>=1.11.0 in c:\\users\\madha\\anaconda3\\anaconda\\lib\\site-packages (from tensorflow-intel==2.12.0->tensorflow) (1.14.1)\n",
      "Requirement already satisfied: tensorflow-estimator<2.13,>=2.12.0 in c:\\users\\madha\\anaconda3\\anaconda\\lib\\site-packages (from tensorflow-intel==2.12.0->tensorflow) (2.12.0)\n",
      "Requirement already satisfied: protobuf!=4.21.0,!=4.21.1,!=4.21.2,!=4.21.3,!=4.21.4,!=4.21.5,<5.0.0dev,>=3.20.3 in c:\\users\\madha\\anaconda3\\anaconda\\lib\\site-packages (from tensorflow-intel==2.12.0->tensorflow) (3.20.3)\n",
      "Requirement already satisfied: typing-extensions>=3.6.6 in c:\\users\\madha\\anaconda3\\anaconda\\lib\\site-packages (from tensorflow-intel==2.12.0->tensorflow) (4.4.0)\n",
      "Requirement already satisfied: gast<=0.4.0,>=0.2.1 in c:\\users\\madha\\anaconda3\\anaconda\\lib\\site-packages (from tensorflow-intel==2.12.0->tensorflow) (0.4.0)\n",
      "Requirement already satisfied: jax>=0.3.15 in c:\\users\\madha\\anaconda3\\anaconda\\lib\\site-packages (from tensorflow-intel==2.12.0->tensorflow) (0.4.12)\n",
      "Requirement already satisfied: setuptools in c:\\users\\madha\\anaconda3\\anaconda\\lib\\site-packages (from tensorflow-intel==2.12.0->tensorflow) (65.6.3)\n",
      "Requirement already satisfied: packaging in c:\\users\\madha\\anaconda3\\anaconda\\lib\\site-packages (from tensorflow-intel==2.12.0->tensorflow) (22.0)\n",
      "Requirement already satisfied: numpy<1.24,>=1.22 in c:\\users\\madha\\anaconda3\\anaconda\\lib\\site-packages (from tensorflow-intel==2.12.0->tensorflow) (1.23.5)\n",
      "Requirement already satisfied: wheel<1.0,>=0.23.0 in c:\\users\\madha\\anaconda3\\anaconda\\lib\\site-packages (from astunparse>=1.6.0->tensorflow-intel==2.12.0->tensorflow) (0.38.4)\n",
      "Requirement already satisfied: scipy>=1.7 in c:\\users\\madha\\anaconda3\\anaconda\\lib\\site-packages (from jax>=0.3.15->tensorflow-intel==2.12.0->tensorflow) (1.10.0)\n",
      "Requirement already satisfied: ml-dtypes>=0.1.0 in c:\\users\\madha\\anaconda3\\anaconda\\lib\\site-packages (from jax>=0.3.15->tensorflow-intel==2.12.0->tensorflow) (0.2.0)\n",
      "Requirement already satisfied: tensorboard-data-server<0.8.0,>=0.7.0 in c:\\users\\madha\\anaconda3\\anaconda\\lib\\site-packages (from tensorboard<2.13,>=2.12->tensorflow-intel==2.12.0->tensorflow) (0.7.0)\n",
      "Requirement already satisfied: werkzeug>=1.0.1 in c:\\users\\madha\\anaconda3\\anaconda\\lib\\site-packages (from tensorboard<2.13,>=2.12->tensorflow-intel==2.12.0->tensorflow) (2.2.2)\n",
      "Requirement already satisfied: requests<3,>=2.21.0 in c:\\users\\madha\\anaconda3\\anaconda\\lib\\site-packages (from tensorboard<2.13,>=2.12->tensorflow-intel==2.12.0->tensorflow) (2.28.1)\n",
      "Requirement already satisfied: google-auth-oauthlib<1.1,>=0.5 in c:\\users\\madha\\anaconda3\\anaconda\\lib\\site-packages (from tensorboard<2.13,>=2.12->tensorflow-intel==2.12.0->tensorflow) (1.0.0)\n",
      "Requirement already satisfied: google-auth<3,>=1.6.3 in c:\\users\\madha\\anaconda3\\anaconda\\lib\\site-packages (from tensorboard<2.13,>=2.12->tensorflow-intel==2.12.0->tensorflow) (2.19.1)\n",
      "Requirement already satisfied: markdown>=2.6.8 in c:\\users\\madha\\anaconda3\\anaconda\\lib\\site-packages (from tensorboard<2.13,>=2.12->tensorflow-intel==2.12.0->tensorflow) (3.4.1)\n",
      "Requirement already satisfied: rsa<5,>=3.1.4 in c:\\users\\madha\\anaconda3\\anaconda\\lib\\site-packages (from google-auth<3,>=1.6.3->tensorboard<2.13,>=2.12->tensorflow-intel==2.12.0->tensorflow) (4.9)\n",
      "Requirement already satisfied: cachetools<6.0,>=2.0.0 in c:\\users\\madha\\anaconda3\\anaconda\\lib\\site-packages (from google-auth<3,>=1.6.3->tensorboard<2.13,>=2.12->tensorflow-intel==2.12.0->tensorflow) (5.3.1)\n",
      "Requirement already satisfied: urllib3<2.0 in c:\\users\\madha\\anaconda3\\anaconda\\lib\\site-packages (from google-auth<3,>=1.6.3->tensorboard<2.13,>=2.12->tensorflow-intel==2.12.0->tensorflow) (1.26.14)\n",
      "Requirement already satisfied: pyasn1-modules>=0.2.1 in c:\\users\\madha\\anaconda3\\anaconda\\lib\\site-packages (from google-auth<3,>=1.6.3->tensorboard<2.13,>=2.12->tensorflow-intel==2.12.0->tensorflow) (0.2.8)\n",
      "Requirement already satisfied: requests-oauthlib>=0.7.0 in c:\\users\\madha\\anaconda3\\anaconda\\lib\\site-packages (from google-auth-oauthlib<1.1,>=0.5->tensorboard<2.13,>=2.12->tensorflow-intel==2.12.0->tensorflow) (1.3.1)\n",
      "Requirement already satisfied: certifi>=2017.4.17 in c:\\users\\madha\\anaconda3\\anaconda\\lib\\site-packages (from requests<3,>=2.21.0->tensorboard<2.13,>=2.12->tensorflow-intel==2.12.0->tensorflow) (2022.12.7)\n",
      "Requirement already satisfied: charset-normalizer<3,>=2 in c:\\users\\madha\\anaconda3\\anaconda\\lib\\site-packages (from requests<3,>=2.21.0->tensorboard<2.13,>=2.12->tensorflow-intel==2.12.0->tensorflow) (2.0.4)\n",
      "Requirement already satisfied: idna<4,>=2.5 in c:\\users\\madha\\anaconda3\\anaconda\\lib\\site-packages (from requests<3,>=2.21.0->tensorboard<2.13,>=2.12->tensorflow-intel==2.12.0->tensorflow) (3.4)\n",
      "Requirement already satisfied: MarkupSafe>=2.1.1 in c:\\users\\madha\\anaconda3\\anaconda\\lib\\site-packages (from werkzeug>=1.0.1->tensorboard<2.13,>=2.12->tensorflow-intel==2.12.0->tensorflow) (2.1.1)\n",
      "Requirement already satisfied: pyasn1<0.5.0,>=0.4.6 in c:\\users\\madha\\anaconda3\\anaconda\\lib\\site-packages (from pyasn1-modules>=0.2.1->google-auth<3,>=1.6.3->tensorboard<2.13,>=2.12->tensorflow-intel==2.12.0->tensorflow) (0.4.8)\n",
      "Requirement already satisfied: oauthlib>=3.0.0 in c:\\users\\madha\\anaconda3\\anaconda\\lib\\site-packages (from requests-oauthlib>=0.7.0->google-auth-oauthlib<1.1,>=0.5->tensorboard<2.13,>=2.12->tensorflow-intel==2.12.0->tensorflow) (3.2.2)\n",
      "Note: you may need to restart the kernel to use updated packages.\n"
     ]
    }
   ],
   "source": [
    "pip install tensorflow\n"
   ]
  },
  {
   "cell_type": "code",
   "execution_count": 199,
   "id": "933a13ae",
   "metadata": {},
   "outputs": [
    {
     "name": "stdout",
     "output_type": "stream",
     "text": [
      "2.12.0\n"
     ]
    }
   ],
   "source": [
    "import tensorflow as tf\n",
    "print(tf.__version__)\n"
   ]
  },
  {
   "cell_type": "code",
   "execution_count": 200,
   "id": "c09a3d12",
   "metadata": {},
   "outputs": [],
   "source": [
    "import numpy as np\n",
    "import pandas as pd\n",
    "import os\n",
    "import math\n",
    "import regex as re\n",
    "import matplotlib.pyplot as plt\n",
    "import seaborn as sns\n",
    "import statistics\n",
    "import warnings\n",
    "import tensorflow as tf\n",
    "import tensorflow.keras.backend as K\n",
    "import tokenizers\n",
    "from sklearn.model_selection import train_test_split\n",
    "from sklearn.metrics import accuracy_score\n",
    "from transformers import RobertaTokenizer, TFRobertaModel\n",
    "\n",
    "warnings.filterwarnings(\"ignore\")"
   ]
  },
  {
   "cell_type": "code",
   "execution_count": 201,
   "id": "30c7e993",
   "metadata": {},
   "outputs": [
    {
     "name": "stdout",
     "output_type": "stream",
     "text": [
      "Running on GPU: 1\n"
     ]
    }
   ],
   "source": [
    "\n",
    "\n",
    "# Set up the TPU or GPU strategy\n",
    "try:\n",
    "    tpu = tf.distribute.cluster_resolver.TPUClusterResolver()\n",
    "    tf.config.experimental_connect_to_cluster(tpu)\n",
    "    tf.tpu.experimental.initialize_tpu_system(tpu)\n",
    "    strategy = tf.distribute.experimental.TPUStrategy(tpu)\n",
    "    print('Running on TPU:', tpu.master())\n",
    "except ValueError:\n",
    "    strategy = tf.distribute.get_strategy()\n",
    "    print('Running on GPU:', strategy.num_replicas_in_sync)\n"
   ]
  },
  {
   "cell_type": "code",
   "execution_count": 202,
   "id": "4cbcf392",
   "metadata": {},
   "outputs": [],
   "source": [
    "import os\n"
   ]
  },
  {
   "cell_type": "code",
   "execution_count": 203,
   "id": "b8e03e8e",
   "metadata": {},
   "outputs": [],
   "source": [
    "\n",
    "# Constants\n",
    "MODEL_NAME = 'roberta-base'\n",
    "MAX_LEN = 256\n",
    "#ARTIFACTS_PATH = '../artifacts/'\n",
    "BATCH_SIZE = 8 * strategy.num_replicas_in_sync\n",
    "EPOCHS = 3\n",
    "\n",
    "#if not os.path.exists(ARTIFACTS_PATH):\n",
    "#    os.makedirs(ARTIFACTS_PATH)"
   ]
  },
  {
   "cell_type": "code",
   "execution_count": 204,
   "id": "6ec822fd",
   "metadata": {},
   "outputs": [],
   "source": [
    "import pandas as pd\n"
   ]
  },
  {
   "cell_type": "code",
   "execution_count": null,
   "id": "ef75f943",
   "metadata": {},
   "outputs": [
    {
     "name": "stdout",
     "output_type": "stream",
     "text": [
      "['Text', 'Task1', 'Task2', 'Task3', 'Task4', 'Task5', 'Task6', 'Task7', 'Task8', 'Task9', 'Task10', 'Task11', 'Task12', 'Task13', 'Task14', 'Task15']\n"
     ]
    }
   ],
   "source": [
    "# Read the new dataset from livex.csv\n",
    "\n",
    "import pandas as pd\n",
    "\n",
    "dfa = pd.read_csv('C:/Users/../livedx_T_AI_1.csv')\n",
    "columns = dfa.columns.tolist()\n",
    "print(columns)\n"
   ]
  },
  {
   "cell_type": "code",
   "execution_count": 206,
   "id": "be2386ee",
   "metadata": {},
   "outputs": [],
   "source": [
    "import numpy as np\n"
   ]
  },
  {
   "cell_type": "code",
   "execution_count": 207,
   "id": "370e5577",
   "metadata": {},
   "outputs": [],
   "source": [
    "\n",
    "# Replace NaN values with a default value (e.g., -1) or any other appropriate value\n",
    "#df.fillna(-1, inplace=True)\n",
    "\n",
    "\n",
    "\n",
    "# Split the dataset into X_data (text) and task labels (Task1 to Task14)\n",
    "X_data = dfa['Text'].values\n",
    "task_labels = dfa.iloc[:, 1:].values.astype('int32')\n"
   ]
  },
  {
   "cell_type": "code",
   "execution_count": 208,
   "id": "ac0532ec",
   "metadata": {},
   "outputs": [],
   "source": [
    "import matplotlib.pyplot as plt\n"
   ]
  },
  {
   "cell_type": "code",
   "execution_count": 209,
   "id": "589313b7",
   "metadata": {},
   "outputs": [
    {
     "data": {
      "image/png": "[encoded data removed]",
      "text/plain": [
       "<Figure size 1000x500 with 1 Axes>"
      ]
     },
     "metadata": {},
     "output_type": "display_data"
    }
   ],
   "source": [
    "import matplotlib.pyplot as plt\n",
    "import numpy as np\n",
    "\n",
    "# Assuming 'task_labels' is a NumPy ndarray containing the task labels\n",
    "task_labels_sum = np.sum(task_labels[:, :13], axis=0)\n",
    "task_names = ['Task' + str(i) for i in range(1, 14)]\n",
    "\n",
    "plt.figure(figsize=(10, 5))\n",
    "plt.bar(task_names, task_labels_sum, align='center', alpha=0.5)\n",
    "plt.ylabel('Number of instances')\n",
    "plt.title('Distribution of instances per task')\n",
    "plt.gca().yaxis.grid(True)\n",
    "plt.show()\n"
   ]
  },
  {
   "cell_type": "code",
   "execution_count": 230,
   "id": "ba962e88",
   "metadata": {},
   "outputs": [],
   "source": [
    "# Assuming 'task_labels' is a NumPy ndarray containing the task labels\n",
    "task_labels_sum = np.sum(task_labels[:, :15], axis=0)\n",
    "task_names = ['Task' + str(i) for i in range(1, 16)]"
   ]
  },
  {
   "cell_type": "code",
   "execution_count": 231,
   "id": "b0e148f9",
   "metadata": {},
   "outputs": [],
   "source": [
    "from sklearn.model_selection import train_test_split\n",
    "\n",
    "# Split the dataset into train and test sets\n",
    "X_train, X_test, y_train, y_test = train_test_split(X_data, task_labels, test_size=0.3, random_state=777)"
   ]
  },
  {
   "cell_type": "code",
   "execution_count": 232,
   "id": "d785d214",
   "metadata": {},
   "outputs": [],
   "source": [
    "from transformers import RobertaTokenizer\n",
    "\n",
    "\n",
    "# Initialize the Roberta tokenizer\n",
    "tokenizer = RobertaTokenizer.from_pretrained(MODEL_NAME)\n",
    "\n",
    "# Encode the text data using the tokenizer\n",
    "def roberta_encode(texts, tokenizer):\n",
    "    input_ids = np.ones((len(texts), MAX_LEN), dtype='int32')\n",
    "    attention_mask = np.zeros((len(texts), MAX_LEN), dtype='int32')\n",
    "    token_type_ids = np.zeros((len(texts), MAX_LEN), dtype='int32')\n",
    "\n",
    "    for i, text in enumerate(texts):\n",
    "        tokens = tokenizer.tokenize(text)\n",
    "        tokens = tokens[:MAX_LEN-2]\n",
    "        tokens = ['[CLS]'] + tokens + ['[SEP]']\n",
    "        input_ids[i, :len(tokens)] = tokenizer.convert_tokens_to_ids(tokens)\n",
    "        attention_mask[i, :len(tokens)] = 1\n",
    "\n",
    "    return {\n",
    "        'input_word_ids': input_ids,\n",
    "        'input_mask': attention_mask,\n",
    "        'input_type_ids': token_type_ids\n",
    "    }\n"
   ]
  },
  {
   "cell_type": "code",
   "execution_count": 233,
   "id": "88638ddc",
   "metadata": {},
   "outputs": [],
   "source": [
    "import numpy as np"
   ]
  },
  {
   "cell_type": "code",
   "execution_count": 234,
   "id": "2771a553",
   "metadata": {},
   "outputs": [],
   "source": [
    "\n",
    "\n",
    "# Encode the train and test data\n",
    "X_train_encoded = roberta_encode(X_train, tokenizer)\n",
    "X_test_encoded = roberta_encode(X_test, tokenizer)\n"
   ]
  },
  {
   "cell_type": "code",
   "execution_count": 235,
   "id": "b1470e5a",
   "metadata": {},
   "outputs": [],
   "source": [
    "\n",
    "# Define the Multitask Roberta model\n",
    "def build_model():\n",
    "    with strategy.scope():\n",
    "        input_word_ids = tf.keras.Input(shape=(MAX_LEN,), dtype=tf.int32, name='input_word_ids')\n",
    "        input_mask = tf.keras.Input(shape=(MAX_LEN,), dtype=tf.int32, name='input_mask')\n",
    "        input_type_ids = tf.keras.Input(shape=(MAX_LEN,), dtype=tf.int32, name='input_type_ids')\n",
    "\n",
    "        roberta = TFRobertaModel.from_pretrained(MODEL_NAME)\n",
    "        roberta.resize_token_embeddings(len(tokenizer))\n",
    "\n",
    "        sequence_output = roberta(input_word_ids, attention_mask=input_mask, token_type_ids=input_type_ids)[0]\n",
    "        cls_token = sequence_output[:, 0, :]\n",
    "\n",
    "        task_outputs = []\n",
    "        for i in range(15):\n",
    "            task_outputs.append(tf.keras.layers.Dense(1, activation='sigmoid', name=f'task_output_{i+1}')(cls_token))\n",
    "\n",
    "        model = tf.keras.Model(inputs=[input_word_ids, input_mask, input_type_ids], outputs=task_outputs)\n",
    "        model.compile(optimizer=tf.keras.optimizers.Adam(lr=1e-5), loss='binary_crossentropy', metrics=['accuracy'])\n",
    "        \n",
    "    return model"
   ]
  },
  {
   "cell_type": "code",
   "execution_count": 236,
   "id": "73e2452c",
   "metadata": {},
   "outputs": [
    {
     "name": "stdout",
     "output_type": "stream",
     "text": [
      "Requirement already satisfied: tensorflow in c:\\users\\madha\\anaconda3\\anaconda\\lib\\site-packages (2.12.0)\n",
      "Requirement already satisfied: tensorflow-intel==2.12.0 in c:\\users\\madha\\anaconda3\\anaconda\\lib\\site-packages (from tensorflow) (2.12.0)\n",
      "Requirement already satisfied: h5py>=2.9.0 in c:\\users\\madha\\anaconda3\\anaconda\\lib\\site-packages (from tensorflow-intel==2.12.0->tensorflow) (3.7.0)\n",
      "Requirement already satisfied: typing-extensions>=3.6.6 in c:\\users\\madha\\anaconda3\\anaconda\\lib\\site-packages (from tensorflow-intel==2.12.0->tensorflow) (4.4.0)\n",
      "Requirement already satisfied: numpy<1.24,>=1.22 in c:\\users\\madha\\anaconda3\\anaconda\\lib\\site-packages (from tensorflow-intel==2.12.0->tensorflow) (1.23.5)\n",
      "Requirement already satisfied: tensorflow-io-gcs-filesystem>=0.23.1 in c:\\users\\madha\\anaconda3\\anaconda\\lib\\site-packages (from tensorflow-intel==2.12.0->tensorflow) (0.31.0)\n",
      "Requirement already satisfied: keras<2.13,>=2.12.0 in c:\\users\\madha\\anaconda3\\anaconda\\lib\\site-packages (from tensorflow-intel==2.12.0->tensorflow) (2.12.0)\n",
      "Requirement already satisfied: libclang>=13.0.0 in c:\\users\\madha\\anaconda3\\anaconda\\lib\\site-packages (from tensorflow-intel==2.12.0->tensorflow) (16.0.0)\n",
      "Requirement already satisfied: absl-py>=1.0.0 in c:\\users\\madha\\anaconda3\\anaconda\\lib\\site-packages (from tensorflow-intel==2.12.0->tensorflow) (1.4.0)\n",
      "Requirement already satisfied: astunparse>=1.6.0 in c:\\users\\madha\\anaconda3\\anaconda\\lib\\site-packages (from tensorflow-intel==2.12.0->tensorflow) (1.6.3)\n",
      "Requirement already satisfied: protobuf!=4.21.0,!=4.21.1,!=4.21.2,!=4.21.3,!=4.21.4,!=4.21.5,<5.0.0dev,>=3.20.3 in c:\\users\\madha\\anaconda3\\anaconda\\lib\\site-packages (from tensorflow-intel==2.12.0->tensorflow) (3.20.3)\n",
      "Requirement already satisfied: jax>=0.3.15 in c:\\users\\madha\\anaconda3\\anaconda\\lib\\site-packages (from tensorflow-intel==2.12.0->tensorflow) (0.4.12)\n",
      "Requirement already satisfied: grpcio<2.0,>=1.24.3 in c:\\users\\madha\\anaconda3\\anaconda\\lib\\site-packages (from tensorflow-intel==2.12.0->tensorflow) (1.53.0)\n",
      "Requirement already satisfied: six>=1.12.0 in c:\\users\\madha\\anaconda3\\anaconda\\lib\\site-packages (from tensorflow-intel==2.12.0->tensorflow) (1.16.0)\n",
      "Requirement already satisfied: gast<=0.4.0,>=0.2.1 in c:\\users\\madha\\anaconda3\\anaconda\\lib\\site-packages (from tensorflow-intel==2.12.0->tensorflow) (0.4.0)\n",
      "Requirement already satisfied: packaging in c:\\users\\madha\\anaconda3\\anaconda\\lib\\site-packages (from tensorflow-intel==2.12.0->tensorflow) (22.0)\n",
      "Requirement already satisfied: tensorboard<2.13,>=2.12 in c:\\users\\madha\\anaconda3\\anaconda\\lib\\site-packages (from tensorflow-intel==2.12.0->tensorflow) (2.12.3)\n",
      "Requirement already satisfied: google-pasta>=0.1.1 in c:\\users\\madha\\anaconda3\\anaconda\\lib\\site-packages (from tensorflow-intel==2.12.0->tensorflow) (0.2.0)\n",
      "Requirement already satisfied: flatbuffers>=2.0 in c:\\users\\madha\\anaconda3\\anaconda\\lib\\site-packages (from tensorflow-intel==2.12.0->tensorflow) (23.5.26)\n",
      "Requirement already satisfied: termcolor>=1.1.0 in c:\\users\\madha\\anaconda3\\anaconda\\lib\\site-packages (from tensorflow-intel==2.12.0->tensorflow) (2.3.0)\n",
      "Requirement already satisfied: opt-einsum>=2.3.2 in c:\\users\\madha\\anaconda3\\anaconda\\lib\\site-packages (from tensorflow-intel==2.12.0->tensorflow) (3.3.0)\n",
      "Requirement already satisfied: tensorflow-estimator<2.13,>=2.12.0 in c:\\users\\madha\\anaconda3\\anaconda\\lib\\site-packages (from tensorflow-intel==2.12.0->tensorflow) (2.12.0)\n",
      "Requirement already satisfied: setuptools in c:\\users\\madha\\anaconda3\\anaconda\\lib\\site-packages (from tensorflow-intel==2.12.0->tensorflow) (65.6.3)\n",
      "Requirement already satisfied: wrapt<1.15,>=1.11.0 in c:\\users\\madha\\anaconda3\\anaconda\\lib\\site-packages (from tensorflow-intel==2.12.0->tensorflow) (1.14.1)\n",
      "Requirement already satisfied: wheel<1.0,>=0.23.0 in c:\\users\\madha\\anaconda3\\anaconda\\lib\\site-packages (from astunparse>=1.6.0->tensorflow-intel==2.12.0->tensorflow) (0.38.4)\n",
      "Requirement already satisfied: ml-dtypes>=0.1.0 in c:\\users\\madha\\anaconda3\\anaconda\\lib\\site-packages (from jax>=0.3.15->tensorflow-intel==2.12.0->tensorflow) (0.2.0)\n",
      "Requirement already satisfied: scipy>=1.7 in c:\\users\\madha\\anaconda3\\anaconda\\lib\\site-packages (from jax>=0.3.15->tensorflow-intel==2.12.0->tensorflow) (1.10.0)\n",
      "Requirement already satisfied: werkzeug>=1.0.1 in c:\\users\\madha\\anaconda3\\anaconda\\lib\\site-packages (from tensorboard<2.13,>=2.12->tensorflow-intel==2.12.0->tensorflow) (2.2.2)\n",
      "Requirement already satisfied: requests<3,>=2.21.0 in c:\\users\\madha\\anaconda3\\anaconda\\lib\\site-packages (from tensorboard<2.13,>=2.12->tensorflow-intel==2.12.0->tensorflow) (2.28.1)\n",
      "Requirement already satisfied: markdown>=2.6.8 in c:\\users\\madha\\anaconda3\\anaconda\\lib\\site-packages (from tensorboard<2.13,>=2.12->tensorflow-intel==2.12.0->tensorflow) (3.4.1)\n",
      "Requirement already satisfied: google-auth-oauthlib<1.1,>=0.5 in c:\\users\\madha\\anaconda3\\anaconda\\lib\\site-packages (from tensorboard<2.13,>=2.12->tensorflow-intel==2.12.0->tensorflow) (1.0.0)\n",
      "Requirement already satisfied: google-auth<3,>=1.6.3 in c:\\users\\madha\\anaconda3\\anaconda\\lib\\site-packages (from tensorboard<2.13,>=2.12->tensorflow-intel==2.12.0->tensorflow) (2.19.1)\n",
      "Requirement already satisfied: tensorboard-data-server<0.8.0,>=0.7.0 in c:\\users\\madha\\anaconda3\\anaconda\\lib\\site-packages (from tensorboard<2.13,>=2.12->tensorflow-intel==2.12.0->tensorflow) (0.7.0)\n",
      "Requirement already satisfied: urllib3<2.0 in c:\\users\\madha\\anaconda3\\anaconda\\lib\\site-packages (from google-auth<3,>=1.6.3->tensorboard<2.13,>=2.12->tensorflow-intel==2.12.0->tensorflow) (1.26.14)\n",
      "Requirement already satisfied: cachetools<6.0,>=2.0.0 in c:\\users\\madha\\anaconda3\\anaconda\\lib\\site-packages (from google-auth<3,>=1.6.3->tensorboard<2.13,>=2.12->tensorflow-intel==2.12.0->tensorflow) (5.3.1)\n",
      "Requirement already satisfied: pyasn1-modules>=0.2.1 in c:\\users\\madha\\anaconda3\\anaconda\\lib\\site-packages (from google-auth<3,>=1.6.3->tensorboard<2.13,>=2.12->tensorflow-intel==2.12.0->tensorflow) (0.2.8)\n",
      "Requirement already satisfied: rsa<5,>=3.1.4 in c:\\users\\madha\\anaconda3\\anaconda\\lib\\site-packages (from google-auth<3,>=1.6.3->tensorboard<2.13,>=2.12->tensorflow-intel==2.12.0->tensorflow) (4.9)\n",
      "Requirement already satisfied: requests-oauthlib>=0.7.0 in c:\\users\\madha\\anaconda3\\anaconda\\lib\\site-packages (from google-auth-oauthlib<1.1,>=0.5->tensorboard<2.13,>=2.12->tensorflow-intel==2.12.0->tensorflow) (1.3.1)\n",
      "Requirement already satisfied: idna<4,>=2.5 in c:\\users\\madha\\anaconda3\\anaconda\\lib\\site-packages (from requests<3,>=2.21.0->tensorboard<2.13,>=2.12->tensorflow-intel==2.12.0->tensorflow) (3.4)\n",
      "Requirement already satisfied: certifi>=2017.4.17 in c:\\users\\madha\\anaconda3\\anaconda\\lib\\site-packages (from requests<3,>=2.21.0->tensorboard<2.13,>=2.12->tensorflow-intel==2.12.0->tensorflow) (2022.12.7)\n",
      "Requirement already satisfied: charset-normalizer<3,>=2 in c:\\users\\madha\\anaconda3\\anaconda\\lib\\site-packages (from requests<3,>=2.21.0->tensorboard<2.13,>=2.12->tensorflow-intel==2.12.0->tensorflow) (2.0.4)\n",
      "Requirement already satisfied: MarkupSafe>=2.1.1 in c:\\users\\madha\\anaconda3\\anaconda\\lib\\site-packages (from werkzeug>=1.0.1->tensorboard<2.13,>=2.12->tensorflow-intel==2.12.0->tensorflow) (2.1.1)\n",
      "Requirement already satisfied: pyasn1<0.5.0,>=0.4.6 in c:\\users\\madha\\anaconda3\\anaconda\\lib\\site-packages (from pyasn1-modules>=0.2.1->google-auth<3,>=1.6.3->tensorboard<2.13,>=2.12->tensorflow-intel==2.12.0->tensorflow) (0.4.8)\n",
      "Requirement already satisfied: oauthlib>=3.0.0 in c:\\users\\madha\\anaconda3\\anaconda\\lib\\site-packages (from requests-oauthlib>=0.7.0->google-auth-oauthlib<1.1,>=0.5->tensorboard<2.13,>=2.12->tensorflow-intel==2.12.0->tensorflow) (3.2.2)\n",
      "Requirement already satisfied: keras in c:\\users\\madha\\anaconda3\\anaconda\\lib\\site-packages (2.12.0)\n",
      "Requirement already satisfied: transformers in c:\\users\\madha\\anaconda3\\anaconda\\lib\\site-packages (4.30.2)\n",
      "Requirement already satisfied: tqdm>=4.27 in c:\\users\\madha\\anaconda3\\anaconda\\lib\\site-packages (from transformers) (4.64.1)\n",
      "Requirement already satisfied: numpy>=1.17 in c:\\users\\madha\\anaconda3\\anaconda\\lib\\site-packages (from transformers) (1.23.5)\n",
      "Requirement already satisfied: regex!=2019.12.17 in c:\\users\\madha\\anaconda3\\anaconda\\lib\\site-packages (from transformers) (2022.7.9)\n",
      "Requirement already satisfied: pyyaml>=5.1 in c:\\users\\madha\\anaconda3\\anaconda\\lib\\site-packages (from transformers) (6.0)\n",
      "Requirement already satisfied: tokenizers!=0.11.3,<0.14,>=0.11.1 in c:\\users\\madha\\anaconda3\\anaconda\\lib\\site-packages (from transformers) (0.11.4)\n",
      "Requirement already satisfied: huggingface-hub<1.0,>=0.14.1 in c:\\users\\madha\\anaconda3\\anaconda\\lib\\site-packages (from transformers) (0.15.1)\n",
      "Requirement already satisfied: packaging>=20.0 in c:\\users\\madha\\anaconda3\\anaconda\\lib\\site-packages (from transformers) (22.0)\n",
      "Requirement already satisfied: safetensors>=0.3.1 in c:\\users\\madha\\anaconda3\\anaconda\\lib\\site-packages (from transformers) (0.3.1)\n",
      "Requirement already satisfied: requests in c:\\users\\madha\\anaconda3\\anaconda\\lib\\site-packages (from transformers) (2.28.1)\n",
      "Requirement already satisfied: filelock in c:\\users\\madha\\anaconda3\\anaconda\\lib\\site-packages (from transformers) (3.9.0)\n",
      "Requirement already satisfied: typing-extensions>=3.7.4.3 in c:\\users\\madha\\anaconda3\\anaconda\\lib\\site-packages (from huggingface-hub<1.0,>=0.14.1->transformers) (4.4.0)\n",
      "Requirement already satisfied: fsspec in c:\\users\\madha\\anaconda3\\anaconda\\lib\\site-packages (from huggingface-hub<1.0,>=0.14.1->transformers) (2022.11.0)\n",
      "Requirement already satisfied: colorama in c:\\users\\madha\\anaconda3\\anaconda\\lib\\site-packages (from tqdm>=4.27->transformers) (0.4.6)\n",
      "Requirement already satisfied: urllib3<1.27,>=1.21.1 in c:\\users\\madha\\anaconda3\\anaconda\\lib\\site-packages (from requests->transformers) (1.26.14)\n",
      "Requirement already satisfied: charset-normalizer<3,>=2 in c:\\users\\madha\\anaconda3\\anaconda\\lib\\site-packages (from requests->transformers) (2.0.4)\n",
      "Requirement already satisfied: idna<4,>=2.5 in c:\\users\\madha\\anaconda3\\anaconda\\lib\\site-packages (from requests->transformers) (3.4)\n",
      "Requirement already satisfied: certifi>=2017.4.17 in c:\\users\\madha\\anaconda3\\anaconda\\lib\\site-packages (from requests->transformers) (2022.12.7)\n"
     ]
    }
   ],
   "source": [
    "!pip install --upgrade tensorflow\n",
    "!pip install --upgrade keras\n",
    "!pip install --upgrade transformers\n"
   ]
  },
  {
   "cell_type": "code",
   "execution_count": 237,
   "id": "fb066b8a",
   "metadata": {},
   "outputs": [
    {
     "name": "stdout",
     "output_type": "stream",
     "text": [
      "TensorFlow version: 2.12.0\n",
      "Keras version: 2.12.0\n",
      "Transformers version: 4.30.2\n"
     ]
    }
   ],
   "source": [
    "import tensorflow as tf\n",
    "import keras\n",
    "import transformers\n",
    "\n",
    "print(\"TensorFlow version:\", tf.__version__)\n",
    "print(\"Keras version:\", keras.__version__)\n",
    "print(\"Transformers version:\", transformers.__version__)\n"
   ]
  },
  {
   "cell_type": "code",
   "execution_count": 238,
   "id": "d78df7bc",
   "metadata": {},
   "outputs": [
    {
     "name": "stdout",
     "output_type": "stream",
     "text": [
      "Requirement already satisfied: transformers in c:\\users\\madha\\anaconda3\\anaconda\\lib\\site-packages (4.30.2)\n",
      "Requirement already satisfied: regex!=2019.12.17 in c:\\users\\madha\\anaconda3\\anaconda\\lib\\site-packages (from transformers) (2022.7.9)\n",
      "Requirement already satisfied: huggingface-hub<1.0,>=0.14.1 in c:\\users\\madha\\anaconda3\\anaconda\\lib\\site-packages (from transformers) (0.15.1)\n",
      "Requirement already satisfied: requests in c:\\users\\madha\\anaconda3\\anaconda\\lib\\site-packages (from transformers) (2.28.1)\n",
      "Requirement already satisfied: pyyaml>=5.1 in c:\\users\\madha\\anaconda3\\anaconda\\lib\\site-packages (from transformers) (6.0)\n",
      "Requirement already satisfied: tokenizers!=0.11.3,<0.14,>=0.11.1 in c:\\users\\madha\\anaconda3\\anaconda\\lib\\site-packages (from transformers) (0.11.4)\n",
      "Requirement already satisfied: numpy>=1.17 in c:\\users\\madha\\anaconda3\\anaconda\\lib\\site-packages (from transformers) (1.23.5)\n",
      "Requirement already satisfied: safetensors>=0.3.1 in c:\\users\\madha\\anaconda3\\anaconda\\lib\\site-packages (from transformers) (0.3.1)\n",
      "Requirement already satisfied: filelock in c:\\users\\madha\\anaconda3\\anaconda\\lib\\site-packages (from transformers) (3.9.0)\n",
      "Requirement already satisfied: packaging>=20.0 in c:\\users\\madha\\anaconda3\\anaconda\\lib\\site-packages (from transformers) (22.0)\n",
      "Requirement already satisfied: tqdm>=4.27 in c:\\users\\madha\\anaconda3\\anaconda\\lib\\site-packages (from transformers) (4.64.1)\n",
      "Requirement already satisfied: typing-extensions>=3.7.4.3 in c:\\users\\madha\\anaconda3\\anaconda\\lib\\site-packages (from huggingface-hub<1.0,>=0.14.1->transformers) (4.4.0)\n",
      "Requirement already satisfied: fsspec in c:\\users\\madha\\anaconda3\\anaconda\\lib\\site-packages (from huggingface-hub<1.0,>=0.14.1->transformers) (2022.11.0)\n",
      "Requirement already satisfied: colorama in c:\\users\\madha\\anaconda3\\anaconda\\lib\\site-packages (from tqdm>=4.27->transformers) (0.4.6)\n",
      "Requirement already satisfied: idna<4,>=2.5 in c:\\users\\madha\\anaconda3\\anaconda\\lib\\site-packages (from requests->transformers) (3.4)\n",
      "Requirement already satisfied: urllib3<1.27,>=1.21.1 in c:\\users\\madha\\anaconda3\\anaconda\\lib\\site-packages (from requests->transformers) (1.26.14)\n",
      "Requirement already satisfied: certifi>=2017.4.17 in c:\\users\\madha\\anaconda3\\anaconda\\lib\\site-packages (from requests->transformers) (2022.12.7)\n",
      "Requirement already satisfied: charset-normalizer<3,>=2 in c:\\users\\madha\\anaconda3\\anaconda\\lib\\site-packages (from requests->transformers) (2.0.4)\n"
     ]
    }
   ],
   "source": [
    "!pip install --upgrade transformers\n"
   ]
  },
  {
   "cell_type": "code",
   "execution_count": 239,
   "id": "fc938463",
   "metadata": {},
   "outputs": [
    {
     "name": "stdout",
     "output_type": "stream",
     "text": [
      "Transformers version: 4.30.2\n"
     ]
    }
   ],
   "source": [
    "import transformers\n",
    "\n",
    "print(\"Transformers version:\", transformers.__version__)\n"
   ]
  },
  {
   "cell_type": "code",
   "execution_count": 240,
   "id": "00dd0baa",
   "metadata": {},
   "outputs": [],
   "source": [
    "from transformers import TFRobertaModel\n"
   ]
  },
  {
   "cell_type": "code",
   "execution_count": 241,
   "id": "b58aee26",
   "metadata": {},
   "outputs": [
    {
     "name": "stderr",
     "output_type": "stream",
     "text": [
      "Some weights of the PyTorch model were not used when initializing the TF 2.0 model TFRobertaModel: ['lm_head.dense.weight', 'lm_head.dense.bias', 'lm_head.layer_norm.weight', 'lm_head.bias', 'lm_head.layer_norm.bias', 'roberta.embeddings.position_ids']\n",
      "- This IS expected if you are initializing TFRobertaModel from a PyTorch model trained on another task or with another architecture (e.g. initializing a TFBertForSequenceClassification model from a BertForPreTraining model).\n",
      "- This IS NOT expected if you are initializing TFRobertaModel from a PyTorch model that you expect to be exactly identical (e.g. initializing a TFBertForSequenceClassification model from a BertForSequenceClassification model).\n",
      "Some weights or buffers of the TF 2.0 model TFRobertaModel were not initialized from the PyTorch model and are newly initialized: ['roberta.pooler.dense.weight', 'roberta.pooler.dense.bias']\n",
      "You should probably TRAIN this model on a down-stream task to be able to use it for predictions and inference.\n",
      "WARNING:absl:`lr` is deprecated in Keras optimizer, please use `learning_rate` or use the legacy optimizer, e.g.,tf.keras.optimizers.legacy.Adam.\n"
     ]
    },
    {
     "name": "stdout",
     "output_type": "stream",
     "text": [
      "Model: \"model_11\"\n",
      "__________________________________________________________________________________________________\n",
      " Layer (type)                   Output Shape         Param #     Connected to                     \n",
      "==================================================================================================\n",
      " input_word_ids (InputLayer)    [(None, 256)]        0           []                               \n",
      "                                                                                                  \n",
      " input_mask (InputLayer)        [(None, 256)]        0           []                               \n",
      "                                                                                                  \n",
      " input_type_ids (InputLayer)    [(None, 256)]        0           []                               \n",
      "                                                                                                  \n",
      " tf_roberta_model_11 (TFRoberta  TFBaseModelOutputWi  124645632  ['input_word_ids[0][0]',         \n",
      " Model)                         thPoolingAndCrossAt               'input_mask[0][0]',             \n",
      "                                tentions(last_hidde               'input_type_ids[0][0]']         \n",
      "                                n_state=(None, 256,                                               \n",
      "                                 768),                                                            \n",
      "                                 pooler_output=(Non                                               \n",
      "                                e, 768),                                                          \n",
      "                                 past_key_values=No                                               \n",
      "                                ne, hidden_states=N                                               \n",
      "                                one, attentions=Non                                               \n",
      "                                e, cross_attentions                                               \n",
      "                                =None)                                                            \n",
      "                                                                                                  \n",
      " tf.__operators__.getitem_11 (S  (None, 768)         0           ['tf_roberta_model_11[0][0]']    \n",
      " licingOpLambda)                                                                                  \n",
      "                                                                                                  \n",
      " task_output_1 (Dense)          (None, 1)            769         ['tf.__operators__.getitem_11[0][\n",
      "                                                                 0]']                             \n",
      "                                                                                                  \n",
      " task_output_2 (Dense)          (None, 1)            769         ['tf.__operators__.getitem_11[0][\n",
      "                                                                 0]']                             \n",
      "                                                                                                  \n",
      " task_output_3 (Dense)          (None, 1)            769         ['tf.__operators__.getitem_11[0][\n",
      "                                                                 0]']                             \n",
      "                                                                                                  \n",
      " task_output_4 (Dense)          (None, 1)            769         ['tf.__operators__.getitem_11[0][\n",
      "                                                                 0]']                             \n",
      "                                                                                                  \n",
      " task_output_5 (Dense)          (None, 1)            769         ['tf.__operators__.getitem_11[0][\n",
      "                                                                 0]']                             \n",
      "                                                                                                  \n",
      " task_output_6 (Dense)          (None, 1)            769         ['tf.__operators__.getitem_11[0][\n",
      "                                                                 0]']                             \n",
      "                                                                                                  \n",
      " task_output_7 (Dense)          (None, 1)            769         ['tf.__operators__.getitem_11[0][\n",
      "                                                                 0]']                             \n",
      "                                                                                                  \n",
      " task_output_8 (Dense)          (None, 1)            769         ['tf.__operators__.getitem_11[0][\n",
      "                                                                 0]']                             \n",
      "                                                                                                  \n",
      " task_output_9 (Dense)          (None, 1)            769         ['tf.__operators__.getitem_11[0][\n",
      "                                                                 0]']                             \n",
      "                                                                                                  \n",
      " task_output_10 (Dense)         (None, 1)            769         ['tf.__operators__.getitem_11[0][\n",
      "                                                                 0]']                             \n",
      "                                                                                                  \n",
      " task_output_11 (Dense)         (None, 1)            769         ['tf.__operators__.getitem_11[0][\n",
      "                                                                 0]']                             \n",
      "                                                                                                  \n",
      " task_output_12 (Dense)         (None, 1)            769         ['tf.__operators__.getitem_11[0][\n",
      "                                                                 0]']                             \n",
      "                                                                                                  \n",
      " task_output_13 (Dense)         (None, 1)            769         ['tf.__operators__.getitem_11[0][\n",
      "                                                                 0]']                             \n",
      "                                                                                                  \n",
      " task_output_14 (Dense)         (None, 1)            769         ['tf.__operators__.getitem_11[0][\n",
      "                                                                 0]']                             \n",
      "                                                                                                  \n",
      " task_output_15 (Dense)         (None, 1)            769         ['tf.__operators__.getitem_11[0][\n",
      "                                                                 0]']                             \n",
      "                                                                                                  \n",
      "==================================================================================================\n",
      "Total params: 124,657,167\n",
      "Trainable params: 124,657,167\n",
      "Non-trainable params: 0\n",
      "__________________________________________________________________________________________________\n"
     ]
    }
   ],
   "source": [
    "\n",
    "\n",
    "# Train and evaluate the model\n",
    "model = build_model()\n",
    "model.summary()\n"
   ]
  },
  {
   "cell_type": "code",
   "execution_count": 242,
   "id": "120eaa6d",
   "metadata": {},
   "outputs": [
    {
     "name": "stdout",
     "output_type": "stream",
     "text": [
      "Epoch 1/3\n",
      "WARNING:tensorflow:Gradients do not exist for variables ['tf_roberta_model_11/roberta/pooler/dense/kernel:0', 'tf_roberta_model_11/roberta/pooler/dense/bias:0'] when minimizing the loss. If you're using `model.compile()`, did you forget to provide a `loss` argument?\n"
     ]
    },
    {
     "name": "stderr",
     "output_type": "stream",
     "text": [
      "WARNING:tensorflow:Gradients do not exist for variables ['tf_roberta_model_11/roberta/pooler/dense/kernel:0', 'tf_roberta_model_11/roberta/pooler/dense/bias:0'] when minimizing the loss. If you're using `model.compile()`, did you forget to provide a `loss` argument?\n"
     ]
    },
    {
     "name": "stdout",
     "output_type": "stream",
     "text": [
      "WARNING:tensorflow:Gradients do not exist for variables ['tf_roberta_model_11/roberta/pooler/dense/kernel:0', 'tf_roberta_model_11/roberta/pooler/dense/bias:0'] when minimizing the loss. If you're using `model.compile()`, did you forget to provide a `loss` argument?\n"
     ]
    },
    {
     "name": "stderr",
     "output_type": "stream",
     "text": [
      "WARNING:tensorflow:Gradients do not exist for variables ['tf_roberta_model_11/roberta/pooler/dense/kernel:0', 'tf_roberta_model_11/roberta/pooler/dense/bias:0'] when minimizing the loss. If you're using `model.compile()`, did you forget to provide a `loss` argument?\n"
     ]
    },
    {
     "name": "stdout",
     "output_type": "stream",
     "text": [
      "WARNING:tensorflow:Gradients do not exist for variables ['tf_roberta_model_11/roberta/pooler/dense/kernel:0', 'tf_roberta_model_11/roberta/pooler/dense/bias:0'] when minimizing the loss. If you're using `model.compile()`, did you forget to provide a `loss` argument?\n"
     ]
    },
    {
     "name": "stderr",
     "output_type": "stream",
     "text": [
      "WARNING:tensorflow:Gradients do not exist for variables ['tf_roberta_model_11/roberta/pooler/dense/kernel:0', 'tf_roberta_model_11/roberta/pooler/dense/bias:0'] when minimizing the loss. If you're using `model.compile()`, did you forget to provide a `loss` argument?\n"
     ]
    },
    {
     "name": "stdout",
     "output_type": "stream",
     "text": [
      "WARNING:tensorflow:Gradients do not exist for variables ['tf_roberta_model_11/roberta/pooler/dense/kernel:0', 'tf_roberta_model_11/roberta/pooler/dense/bias:0'] when minimizing the loss. If you're using `model.compile()`, did you forget to provide a `loss` argument?\n"
     ]
    },
    {
     "name": "stderr",
     "output_type": "stream",
     "text": [
      "WARNING:tensorflow:Gradients do not exist for variables ['tf_roberta_model_11/roberta/pooler/dense/kernel:0', 'tf_roberta_model_11/roberta/pooler/dense/bias:0'] when minimizing the loss. If you're using `model.compile()`, did you forget to provide a `loss` argument?\n"
     ]
    },
    {
     "name": "stdout",
     "output_type": "stream",
     "text": [
      "88/88 [==============================] - 1853s 21s/step - loss: 4.7234 - task_output_1_loss: 0.6016 - task_output_2_loss: 0.4891 - task_output_3_loss: 0.2233 - task_output_4_loss: 0.4014 - task_output_5_loss: 0.1615 - task_output_6_loss: 0.2625 - task_output_7_loss: 0.1938 - task_output_8_loss: 0.1138 - task_output_9_loss: 0.1368 - task_output_10_loss: 0.5873 - task_output_11_loss: 0.2660 - task_output_12_loss: 0.1617 - task_output_13_loss: 0.0869 - task_output_14_loss: 0.7259 - task_output_15_loss: 0.3118 - task_output_1_accuracy: 0.7339 - task_output_2_accuracy: 0.8326 - task_output_3_accuracy: 0.9399 - task_output_4_accuracy: 0.8641 - task_output_5_accuracy: 0.9599 - task_output_6_accuracy: 0.9299 - task_output_7_accuracy: 0.9557 - task_output_8_accuracy: 0.9599 - task_output_9_accuracy: 0.9714 - task_output_10_accuracy: 0.7668 - task_output_11_accuracy: 0.9356 - task_output_12_accuracy: 0.9742 - task_output_13_accuracy: 0.9828 - task_output_14_accuracy: 0.5866 - task_output_15_accuracy: 0.9242 - val_loss: 4.2506 - val_task_output_1_loss: 0.5272 - val_task_output_2_loss: 0.5036 - val_task_output_3_loss: 0.1555 - val_task_output_4_loss: 0.3602 - val_task_output_5_loss: 0.1039 - val_task_output_6_loss: 0.1989 - val_task_output_7_loss: 0.2020 - val_task_output_8_loss: 0.1150 - val_task_output_9_loss: 0.0982 - val_task_output_10_loss: 0.5987 - val_task_output_11_loss: 0.1805 - val_task_output_12_loss: 0.1784 - val_task_output_13_loss: 0.0854 - val_task_output_14_loss: 0.6447 - val_task_output_15_loss: 0.2981 - val_task_output_1_accuracy: 0.7800 - val_task_output_2_accuracy: 0.8400 - val_task_output_3_accuracy: 0.9700 - val_task_output_4_accuracy: 0.9000 - val_task_output_5_accuracy: 0.9800 - val_task_output_6_accuracy: 0.9500 - val_task_output_7_accuracy: 0.9500 - val_task_output_8_accuracy: 0.9800 - val_task_output_9_accuracy: 0.9800 - val_task_output_10_accuracy: 0.7767 - val_task_output_11_accuracy: 0.9667 - val_task_output_12_accuracy: 0.9567 - val_task_output_13_accuracy: 0.9833 - val_task_output_14_accuracy: 0.6600 - val_task_output_15_accuracy: 0.9133\n",
      "Epoch 2/3\n",
      "88/88 [==============================] - 1771s 20s/step - loss: 4.2710 - task_output_1_loss: 0.5180 - task_output_2_loss: 0.4457 - task_output_3_loss: 0.2161 - task_output_4_loss: 0.3600 - task_output_5_loss: 0.1500 - task_output_6_loss: 0.2124 - task_output_7_loss: 0.2128 - task_output_8_loss: 0.0971 - task_output_9_loss: 0.1068 - task_output_10_loss: 0.5464 - task_output_11_loss: 0.2364 - task_output_12_loss: 0.1388 - task_output_13_loss: 0.0696 - task_output_14_loss: 0.6798 - task_output_15_loss: 0.2811 - task_output_1_accuracy: 0.7969 - task_output_2_accuracy: 0.8469 - task_output_3_accuracy: 0.9485 - task_output_4_accuracy: 0.8870 - task_output_5_accuracy: 0.9728 - task_output_6_accuracy: 0.9499 - task_output_7_accuracy: 0.9571 - task_output_8_accuracy: 0.9828 - task_output_9_accuracy: 0.9785 - task_output_10_accuracy: 0.7811 - task_output_11_accuracy: 0.9471 - task_output_12_accuracy: 0.9742 - task_output_13_accuracy: 0.9871 - task_output_14_accuracy: 0.6137 - task_output_15_accuracy: 0.9242 - val_loss: 4.1680 - val_task_output_1_loss: 0.5488 - val_task_output_2_loss: 0.4397 - val_task_output_3_loss: 0.1824 - val_task_output_4_loss: 0.3452 - val_task_output_5_loss: 0.0988 - val_task_output_6_loss: 0.2005 - val_task_output_7_loss: 0.2016 - val_task_output_8_loss: 0.1069 - val_task_output_9_loss: 0.1012 - val_task_output_10_loss: 0.5348 - val_task_output_11_loss: 0.1618 - val_task_output_12_loss: 0.1885 - val_task_output_13_loss: 0.0911 - val_task_output_14_loss: 0.6696 - val_task_output_15_loss: 0.2972 - val_task_output_1_accuracy: 0.7800 - val_task_output_2_accuracy: 0.8400 - val_task_output_3_accuracy: 0.9700 - val_task_output_4_accuracy: 0.9000 - val_task_output_5_accuracy: 0.9800 - val_task_output_6_accuracy: 0.9500 - val_task_output_7_accuracy: 0.9500 - val_task_output_8_accuracy: 0.9800 - val_task_output_9_accuracy: 0.9800 - val_task_output_10_accuracy: 0.7767 - val_task_output_11_accuracy: 0.9667 - val_task_output_12_accuracy: 0.9567 - val_task_output_13_accuracy: 0.9833 - val_task_output_14_accuracy: 0.6600 - val_task_output_15_accuracy: 0.9133\n",
      "Epoch 3/3\n",
      "88/88 [==============================] - 1672s 19s/step - loss: 4.2612 - task_output_1_loss: 0.5231 - task_output_2_loss: 0.4592 - task_output_3_loss: 0.2191 - task_output_4_loss: 0.3696 - task_output_5_loss: 0.1415 - task_output_6_loss: 0.2185 - task_output_7_loss: 0.1838 - task_output_8_loss: 0.0948 - task_output_9_loss: 0.1055 - task_output_10_loss: 0.5404 - task_output_11_loss: 0.2254 - task_output_12_loss: 0.1251 - task_output_13_loss: 0.0788 - task_output_14_loss: 0.7048 - task_output_15_loss: 0.2716 - task_output_1_accuracy: 0.7969 - task_output_2_accuracy: 0.8469 - task_output_3_accuracy: 0.9485 - task_output_4_accuracy: 0.8870 - task_output_5_accuracy: 0.9728 - task_output_6_accuracy: 0.9499 - task_output_7_accuracy: 0.9571 - task_output_8_accuracy: 0.9828 - task_output_9_accuracy: 0.9785 - task_output_10_accuracy: 0.7883 - task_output_11_accuracy: 0.9471 - task_output_12_accuracy: 0.9742 - task_output_13_accuracy: 0.9871 - task_output_14_accuracy: 0.5880 - task_output_15_accuracy: 0.9242 - val_loss: 4.2456 - val_task_output_1_loss: 0.5366 - val_task_output_2_loss: 0.5833 - val_task_output_3_loss: 0.1453 - val_task_output_4_loss: 0.3428 - val_task_output_5_loss: 0.1102 - val_task_output_6_loss: 0.2059 - val_task_output_7_loss: 0.2004 - val_task_output_8_loss: 0.1077 - val_task_output_9_loss: 0.1006 - val_task_output_10_loss: 0.5487 - val_task_output_11_loss: 0.1470 - val_task_output_12_loss: 0.1844 - val_task_output_13_loss: 0.0848 - val_task_output_14_loss: 0.6532 - val_task_output_15_loss: 0.2948 - val_task_output_1_accuracy: 0.7800 - val_task_output_2_accuracy: 0.8400 - val_task_output_3_accuracy: 0.9700 - val_task_output_4_accuracy: 0.9000 - val_task_output_5_accuracy: 0.9800 - val_task_output_6_accuracy: 0.9500 - val_task_output_7_accuracy: 0.9500 - val_task_output_8_accuracy: 0.9800 - val_task_output_9_accuracy: 0.9800 - val_task_output_10_accuracy: 0.7767 - val_task_output_11_accuracy: 0.9667 - val_task_output_12_accuracy: 0.9567 - val_task_output_13_accuracy: 0.9833 - val_task_output_14_accuracy: 0.6600 - val_task_output_15_accuracy: 0.9133\n",
      "10/10 [==============================] - 184s 18s/step\n",
      "Test Accuracy per Task:\n",
      "Task 1: 0.78\n",
      "Task 2: 0.84\n",
      "Task 3: 0.97\n",
      "Task 4: 0.9\n",
      "Task 5: 0.98\n",
      "Task 6: 0.95\n",
      "Task 7: 0.95\n",
      "Task 8: 0.98\n",
      "Task 9: 0.98\n",
      "Task 10: 0.7766666666666666\n",
      "Task 11: 0.9666666666666667\n",
      "Task 12: 0.9566666666666667\n",
      "Task 13: 0.9833333333333333\n",
      "Task 14: 0.66\n",
      "Task 15: 0.9133333333333333\n"
     ]
    }
   ],
   "source": [
    "\n",
    "history = model.fit(\n",
    "    X_train_encoded, list(y_train.T),\n",
    "    validation_data=(X_test_encoded, list(y_test.T)),\n",
    "    epochs=EPOCHS,\n",
    "    batch_size=BATCH_SIZE\n",
    ")\n",
    "\n",
    "# Evaluate model performance on test data\n",
    "test_predictions = model.predict(X_test_encoded)\n",
    "test_predictions = [np.round(pred.flatten()) for pred in test_predictions]\n",
    "test_accuracy = [accuracy_score(y_test[:, i], test_predictions[i]) for i in range(15)]\n",
    "\n",
    "print('Test Accuracy per Task:')\n",
    "for i, acc in enumerate(test_accuracy):\n",
    "    print(f'Task {i+1}: {acc}')\n"
   ]
  },
  {
   "cell_type": "code",
   "execution_count": 264,
   "id": "be974be5",
   "metadata": {},
   "outputs": [
    {
     "name": "stdout",
     "output_type": "stream",
     "text": [
      "Precision per Task:\n",
      "Task 1: [0.85238095 0.17333333]\n",
      "Task 2: [0.85238095 0.17333333]\n",
      "Task 3: [0.85238095 0.17333333]\n",
      "Task 4: [0.85238095 0.17333333]\n",
      "Task 5: [0.85238095 0.17333333]\n",
      "Task 6: [0.85238095 0.17333333]\n",
      "Task 7: [0.85238095 0.17333333]\n",
      "Task 8: [0.85238095 0.17333333]\n",
      "Task 9: [0.85238095 0.17333333]\n",
      "Task 10: [0.85238095 0.17333333]\n",
      "Task 11: [0.85238095 0.17333333]\n",
      "Task 12: [0.85238095 0.17333333]\n",
      "Task 13: [0.85238095 0.17333333]\n",
      "Task 14: [0.85238095 0.17333333]\n",
      "Task 15: [0.85238095 0.17333333]\n",
      "Recall per Task:\n",
      "Task 1: [0.93521421 0.07738095]\n",
      "Task 2: [0.93521421 0.07738095]\n",
      "Task 3: [0.93521421 0.07738095]\n",
      "Task 4: [0.93521421 0.07738095]\n",
      "Task 5: [0.93521421 0.07738095]\n",
      "Task 6: [0.93521421 0.07738095]\n",
      "Task 7: [0.93521421 0.07738095]\n",
      "Task 8: [0.93521421 0.07738095]\n",
      "Task 9: [0.93521421 0.07738095]\n",
      "Task 10: [0.93521421 0.07738095]\n",
      "Task 11: [0.93521421 0.07738095]\n",
      "Task 12: [0.93521421 0.07738095]\n",
      "Task 13: [0.93521421 0.07738095]\n",
      "Task 14: [0.93521421 0.07738095]\n",
      "Task 15: [0.93521421 0.07738095]\n",
      "F1 Score per Task:\n",
      "Task 1: [0.89187843 0.10699588]\n",
      "Task 2: [0.89187843 0.10699588]\n",
      "Task 3: [0.89187843 0.10699588]\n",
      "Task 4: [0.89187843 0.10699588]\n",
      "Task 5: [0.89187843 0.10699588]\n",
      "Task 6: [0.89187843 0.10699588]\n",
      "Task 7: [0.89187843 0.10699588]\n",
      "Task 8: [0.89187843 0.10699588]\n",
      "Task 9: [0.89187843 0.10699588]\n",
      "Task 10: [0.89187843 0.10699588]\n",
      "Task 11: [0.89187843 0.10699588]\n",
      "Task 12: [0.89187843 0.10699588]\n",
      "Task 13: [0.89187843 0.10699588]\n",
      "Task 14: [0.89187843 0.10699588]\n",
      "Task 15: [0.89187843 0.10699588]\n"
     ]
    }
   ],
   "source": [
    "from sklearn.metrics import precision_score, recall_score, f1_score\n",
    "import numpy as np\n",
    "\n",
    "# Calculating metrics - precision, recall, and F1 score for each task\n",
    "precision = []\n",
    "recall = []\n",
    "f1_measure = []\n",
    "\n",
    "for i in range(1, 16):  # Iterate from 1 to 14\n",
    "    task_precision = precision_score(y_test, np.round(test_predictions), average=None)\n",
    "    task_recall = recall_score(y_test, np.round(test_predictions), average=None)\n",
    "    task_f1 = f1_score(y_test, np.round(test_predictions), average=None)\n",
    "    \n",
    "    precision.append(task_precision)\n",
    "    recall.append(task_recall)\n",
    "    f1_measure.append(task_f1)\n",
    "\n",
    "# Print precision, recall, and F1 score for each task\n",
    "print('Precision per Task:')\n",
    "for i, p in enumerate(precision):\n",
    "    print(f'Task {i+1}: {p}')\n",
    "    \n",
    "print('Recall per Task:')\n",
    "for i, r in enumerate(recall):\n",
    "    print(f'Task {i+1}: {r}')\n",
    "    \n",
    "print('F1 Score per Task:')\n",
    "for i, f in enumerate(f1_measure):\n",
    "    print(f'Task {i+1}: {f}')\n"
   ]
  },
  {
   "cell_type": "code",
   "execution_count": 249,
   "id": "5c19a2bb",
   "metadata": {},
   "outputs": [
    {
     "name": "stdout",
     "output_type": "stream",
     "text": [
      "Precision per Task:\n",
      "Task 1: 0.78\n",
      "Task 2: 0.84\n",
      "Task 3: 0.97\n",
      "Task 4: 0.9\n",
      "Task 5: 0.98\n",
      "Task 6: 0.95\n",
      "Task 7: 0.95\n",
      "Task 8: 0.98\n",
      "Task 9: 0.98\n",
      "Task 10: 0.7766666666666666\n",
      "Task 11: 0.9666666666666667\n",
      "Task 12: 0.9566666666666667\n",
      "Task 13: 0.9833333333333333\n",
      "Task 14: 0.66\n",
      "Task 15: 0.9133333333333333\n",
      "Recall per Task:\n",
      "Task 1: 0.78\n",
      "Task 2: 0.84\n",
      "Task 3: 0.97\n",
      "Task 4: 0.9\n",
      "Task 5: 0.98\n",
      "Task 6: 0.95\n",
      "Task 7: 0.95\n",
      "Task 8: 0.98\n",
      "Task 9: 0.98\n",
      "Task 10: 0.7766666666666666\n",
      "Task 11: 0.9666666666666667\n",
      "Task 12: 0.9566666666666667\n",
      "Task 13: 0.9833333333333333\n",
      "Task 14: 0.66\n",
      "Task 15: 0.9133333333333333\n",
      "F1 Score per Task:\n",
      "Task 1: 0.78\n",
      "Task 2: 0.8399999999999999\n",
      "Task 3: 0.97\n",
      "Task 4: 0.9\n",
      "Task 5: 0.98\n",
      "Task 6: 0.9500000000000001\n",
      "Task 7: 0.9500000000000001\n",
      "Task 8: 0.98\n",
      "Task 9: 0.98\n",
      "Task 10: 0.7766666666666666\n",
      "Task 11: 0.9666666666666667\n",
      "Task 12: 0.9566666666666667\n",
      "Task 13: 0.9833333333333333\n",
      "Task 14: 0.66\n",
      "Task 15: 0.9133333333333333\n"
     ]
    }
   ],
   "source": [
    "from sklearn.metrics import precision_score, recall_score, f1_score\n",
    "\n",
    "# Calculate precision, recall, and F1 score for each task\n",
    "precision = []\n",
    "recall = []\n",
    "f1_measure = []\n",
    "\n",
    "for i in range(15):\n",
    "    task_precision = precision_score(y_test[:, i], np.round(test_predictions[i]), average='micro')\n",
    "    task_recall = recall_score(y_test[:, i], np.round(test_predictions[i]), average='micro')\n",
    "    task_f1 = f1_score(y_test[:, i], np.round(test_predictions[i]), average='micro')\n",
    "    \n",
    "    precision.append(task_precision)\n",
    "    recall.append(task_recall)\n",
    "    f1_measure.append(task_f1)\n",
    "\n",
    "# Print precision, recall, and F1 score for each task\n",
    "print('Precision per Task:')\n",
    "for i, p in enumerate(precision):\n",
    "    print(f'Task {i+1}: {p}')\n",
    "    \n",
    "print('Recall per Task:')\n",
    "for i, r in enumerate(recall):\n",
    "    print(f'Task {i+1}: {r}')\n",
    "    \n",
    "print('F1 Score per Task:')\n",
    "for i, f in enumerate(f1_measure):\n",
    "    print(f'Task {i+1}: {f}')\n"
   ]
  },
  {
   "cell_type": "code",
   "execution_count": 252,
   "id": "99774f3f",
   "metadata": {},
   "outputs": [
    {
     "name": "stdout",
     "output_type": "stream",
     "text": [
      "Precision per Task:\n",
      "Task 1: 0.39\n",
      "Task 2: 0.42\n",
      "Task 3: 0.485\n",
      "Task 4: 0.45\n",
      "Task 5: 0.49\n",
      "Task 6: 0.475\n",
      "Task 7: 0.475\n",
      "Task 8: 0.49\n",
      "Task 9: 0.49\n",
      "Task 10: 0.3883333333333333\n",
      "Task 11: 0.48333333333333334\n",
      "Task 12: 0.47833333333333333\n",
      "Task 13: 0.49166666666666664\n",
      "Task 14: 0.33\n",
      "Task 15: 0.45666666666666667\n",
      "Recall per Task:\n",
      "Task 1: 0.5\n",
      "Task 2: 0.5\n",
      "Task 3: 0.5\n",
      "Task 4: 0.5\n",
      "Task 5: 0.5\n",
      "Task 6: 0.5\n",
      "Task 7: 0.5\n",
      "Task 8: 0.5\n",
      "Task 9: 0.5\n",
      "Task 10: 0.5\n",
      "Task 11: 0.5\n",
      "Task 12: 0.5\n",
      "Task 13: 0.5\n",
      "Task 14: 0.5\n",
      "Task 15: 0.5\n",
      "F1 Score per Task:\n",
      "Task 1: 0.43820224719101125\n",
      "Task 2: 0.4565217391304348\n",
      "Task 3: 0.49238578680203043\n",
      "Task 4: 0.4736842105263158\n",
      "Task 5: 0.494949494949495\n",
      "Task 6: 0.48717948717948717\n",
      "Task 7: 0.48717948717948717\n",
      "Task 8: 0.494949494949495\n",
      "Task 9: 0.494949494949495\n",
      "Task 10: 0.4371482176360225\n",
      "Task 11: 0.4915254237288135\n",
      "Task 12: 0.48892674616695064\n",
      "Task 13: 0.49579831932773105\n",
      "Task 14: 0.39759036144578314\n",
      "Task 15: 0.47735191637630664\n"
     ]
    }
   ],
   "source": [
    "from sklearn.metrics import precision_score, recall_score, f1_score\n",
    "\n",
    "# Calculate precision, recall, and F1 score for each task\n",
    "precision = []\n",
    "recall = []\n",
    "f1_measure = []\n",
    "\n",
    "for i in range(15):\n",
    "    task_precision = precision_score(y_test[:, i], np.round(test_predictions[i]), average='macro')\n",
    "    task_recall = recall_score(y_test[:, i], np.round(test_predictions[i]), average='macro')\n",
    "    task_f1 = f1_score(y_test[:, i], np.round(test_predictions[i]), average='macro')\n",
    "    \n",
    "    precision.append(task_precision)\n",
    "    recall.append(task_recall)\n",
    "    f1_measure.append(task_f1)\n",
    "\n",
    "# Print precision, recall, and F1 score for each task\n",
    "print('Precision per Task:')\n",
    "for i, p in enumerate(precision):\n",
    "    print(f'Task {i+1}: {p}')\n",
    "    \n",
    "print('Recall per Task:')\n",
    "for i, r in enumerate(recall):\n",
    "    print(f'Task {i+1}: {r}')\n",
    "    \n",
    "print('F1 Score per Task:')\n",
    "for i, f in enumerate(f1_measure):\n",
    "    print(f'Task {i+1}: {f}')\n"
   ]
  },
  {
   "cell_type": "code",
   "execution_count": 253,
   "id": "ac39a247",
   "metadata": {},
   "outputs": [
    {
     "name": "stdout",
     "output_type": "stream",
     "text": [
      "Precision per Task:\n",
      "Task 1: 0.6084\n",
      "Task 2: 0.7055999999999999\n",
      "Task 3: 0.9409\n",
      "Task 4: 0.81\n",
      "Task 5: 0.9604\n",
      "Task 6: 0.9025\n",
      "Task 7: 0.9025\n",
      "Task 8: 0.9604\n",
      "Task 9: 0.9604\n",
      "Task 10: 0.603211111111111\n",
      "Task 11: 0.9344444444444444\n",
      "Task 12: 0.9152111111111111\n",
      "Task 13: 0.9669444444444444\n",
      "Task 14: 0.43560000000000004\n",
      "Task 15: 0.8341777777777778\n",
      "Recall per Task:\n",
      "Task 1: 0.78\n",
      "Task 2: 0.84\n",
      "Task 3: 0.97\n",
      "Task 4: 0.9\n",
      "Task 5: 0.98\n",
      "Task 6: 0.95\n",
      "Task 7: 0.95\n",
      "Task 8: 0.98\n",
      "Task 9: 0.98\n",
      "Task 10: 0.7766666666666666\n",
      "Task 11: 0.9666666666666667\n",
      "Task 12: 0.9566666666666667\n",
      "Task 13: 0.9833333333333333\n",
      "Task 14: 0.66\n",
      "Task 15: 0.9133333333333333\n",
      "F1 Score per Task:\n",
      "Task 1: 0.6835955056179776\n",
      "Task 2: 0.7669565217391305\n",
      "Task 3: 0.9552284263959391\n",
      "Task 4: 0.8526315789473685\n",
      "Task 5: 0.9701010101010102\n",
      "Task 6: 0.9256410256410256\n",
      "Task 7: 0.9256410256410256\n",
      "Task 8: 0.9701010101010102\n",
      "Task 9: 0.9701010101010102\n",
      "Task 10: 0.6790368980612883\n",
      "Task 11: 0.9502824858757062\n",
      "Task 12: 0.9354798409994323\n",
      "Task 13: 0.9750700280112043\n",
      "Task 14: 0.5248192771084338\n",
      "Task 15: 0.8719628339140534\n"
     ]
    }
   ],
   "source": [
    "from sklearn.metrics import precision_score, recall_score, f1_score\n",
    "\n",
    "# Calculate precision, recall, and F1 score for each task\n",
    "precision = []\n",
    "recall = []\n",
    "f1_measure = []\n",
    "\n",
    "for i in range(15):\n",
    "    task_precision = precision_score(y_test[:, i], np.round(test_predictions[i]), average='weighted')\n",
    "    task_recall = recall_score(y_test[:, i], np.round(test_predictions[i]), average='weighted')\n",
    "    task_f1 = f1_score(y_test[:, i], np.round(test_predictions[i]), average='weighted')\n",
    "    \n",
    "    precision.append(task_precision)\n",
    "    recall.append(task_recall)\n",
    "    f1_measure.append(task_f1)\n",
    "\n",
    "# Print precision, recall, and F1 score for each task\n",
    "print('Precision per Task:')\n",
    "for i, p in enumerate(precision):\n",
    "    print(f'Task {i+1}: {p}')\n",
    "    \n",
    "print('Recall per Task:')\n",
    "for i, r in enumerate(recall):\n",
    "    print(f'Task {i+1}: {r}')\n",
    "    \n",
    "print('F1 Score per Task:')\n",
    "for i, f in enumerate(f1_measure):\n",
    "    print(f'Task {i+1}: {f}')\n"
   ]
  },
  {
   "cell_type": "code",
   "execution_count": 260,
   "id": "a2396cf3",
   "metadata": {},
   "outputs": [
    {
     "name": "stdout",
     "output_type": "stream",
     "text": [
      "Precision for Task 14 (Current Situation): 0.17333333333333334\n",
      "Precision for Task 14 (Not Current Situation): 0.8523809523809524\n",
      "Recall for Task 14 (Current Situation): 0.07738095238095238\n",
      "Recall for Task 14 (Not Current Situation): 0.93521421107628\n",
      "F1 Score for Task 14 (Current Situation): 0.10699588477366256\n",
      "F1 Score for Task 14 (Not Current Situation): 0.8918784255107126\n"
     ]
    }
   ],
   "source": [
    "#trial\n",
    "\n",
    "# Convert test_predictions to an array\n",
    "test_predictions = np.array(test_predictions)\n",
    "\n",
    "# Reshape y_test to match the shape of test_predictions\n",
    "y_test = y_test.flatten()\n",
    "\n",
    "# Calculate precision, recall, and F1 score for both current situation (1) and not current situation (0)\n",
    "precision_current = precision_score(y_test, test_predictions, pos_label=1)\n",
    "precision_not_current = precision_score(y_test, test_predictions, pos_label=0)\n",
    "\n",
    "recall_current = recall_score(y_test, test_predictions, pos_label=1)\n",
    "recall_not_current = recall_score(y_test, test_predictions, pos_label=0)\n",
    "\n",
    "f1_current = f1_score(y_test, test_predictions, pos_label=1)\n",
    "f1_not_current = f1_score(y_test, test_predictions, pos_label=0)\n",
    "\n",
    "# Print precision, recall, and F1 score for Task 14\n",
    "print('Precision for Task 14 (Current Situation):', precision_current)\n",
    "print('Precision for Task 14 (Not Current Situation):', precision_not_current)\n",
    "\n",
    "print('Recall for Task 14 (Current Situation):', recall_current)\n",
    "print('Recall for Task 14 (Not Current Situation):', recall_not_current)\n",
    "\n",
    "print('F1 Score for Task 14 (Current Situation):', f1_current)\n",
    "print('F1 Score for Task 14 (Not Current Situation):', f1_not_current)\n"
   ]
  },
  {
   "cell_type": "code",
   "execution_count": 268,
   "id": "1ad925e3",
   "metadata": {},
   "outputs": [
    {
     "name": "stdout",
     "output_type": "stream",
     "text": [
      "Precision for Task 15 (Not None): 0.17333333333333334\n",
      "Precision for Task 15 (None): 0.8523809523809524\n",
      "Recall for Task 15 (Not None): 0.07738095238095238\n",
      "Recall for Task 15 (None): 0.93521421107628\n",
      "F1 Score for Task 15 (Not None): 0.10699588477366256\n",
      "F1 Score for Task 15 (None): 0.8918784255107126\n"
     ]
    }
   ],
   "source": [
    "#trial\n",
    "\n",
    "# Convert test_predictions to an array\n",
    "test_predictions = np.array(test_predictions)\n",
    "\n",
    "# Reshape y_test to match the shape of test_predictions\n",
    "y_test = y_test.flatten()\n",
    "\n",
    "# Calculate precision, recall, and F1 score for both current situation (1) and not current situation (0)\n",
    "precision_Not_None = precision_score(y_test, test_predictions, pos_label=1)\n",
    "precision_none = precision_score(y_test, test_predictions, pos_label=0)\n",
    "\n",
    "recall_Not_None = recall_score(y_test, test_predictions, pos_label=1)\n",
    "recall_none = recall_score(y_test, test_predictions, pos_label=0)\n",
    "\n",
    "f1_Not_None = f1_score(y_test, test_predictions, pos_label=1)\n",
    "f1_none = f1_score(y_test, test_predictions, pos_label=0)\n",
    "\n",
    "# Print precision, recall, and F1 score for Task 14\n",
    "print('Precision for Task 15 (Not None):', precision_Not_None)\n",
    "print('Precision for Task 15 (None):', precision_none)\n",
    "\n",
    "print('Recall for Task 15 (Not None):', recall_Not_None)\n",
    "print('Recall for Task 15 (None):', recall_none)\n",
    "\n",
    "print('F1 Score for Task 15 (Not None):', f1_Not_None)\n",
    "print('F1 Score for Task 15 (None):', f1_none)\n"
   ]
  },
  {
   "cell_type": "code",
   "execution_count": null,
   "id": "e716d865",
   "metadata": {},
   "outputs": [
    {
     "name": "stderr",
     "output_type": "stream",
     "text": [
      "WARNING:absl:Found untraced functions such as _update_step_xla, encoder_layer_call_fn, encoder_layer_call_and_return_conditional_losses, pooler_layer_call_fn, pooler_layer_call_and_return_conditional_losses while saving (showing 5 of 421). These functions will not be directly callable after loading.\n"
     ]
    },
    {
     "name": "stdout",
     "output_type": "stream",
     "text": [
      "INFO:tensorflow:Assets written to: C:/Users/madha/OneDrive/Documents/livedx_trial1\\assets\n"
     ]
    },
    {
     "name": "stderr",
     "output_type": "stream",
     "text": [
      "INFO:tensorflow:Assets written to: C:/Users/madha/OneDrive/Documents/livedx_trial1\\assets\n"
     ]
    },
    {
     "data": {
      "text/plain": [
       "('C:/Users/madha/OneDrive/Documents/livedx_trial1\\\\tokenizer_config.json',\n",
       " 'C:/Users/madha/OneDrive/Documents/livedx_trial1\\\\special_tokens_map.json',\n",
       " 'C:/Users/madha/OneDrive/Documents/livedx_trial1\\\\vocab.json',\n",
       " 'C:/Users/madha/OneDrive/Documents/livedx_trial1\\\\merges.txt',\n",
       " 'C:/Users/madha/OneDrive/Documents/livedx_trial1\\\\added_tokens.json')"
      ]
     },
     "execution_count": 269,
     "metadata": {},
     "output_type": "execute_result"
    }
   ],
   "source": [
    "model.save('C:/Users..')\n",
    "tokenizer.save_pretrained('C:/Users..')\n"
   ]
  },
  {
   "cell_type": "code",
   "execution_count": 270,
   "id": "c6250ad5",
   "metadata": {},
   "outputs": [
    {
     "data": {
      "text/plain": [
       "{'loss': [4.72340726852417, 4.270983695983887, 4.261174201965332],\n",
       " 'task_output_1_loss': [0.6016289591789246,\n",
       "  0.5180310606956482,\n",
       "  0.5231252908706665],\n",
       " 'task_output_2_loss': [0.48913073539733887,\n",
       "  0.4457162916660309,\n",
       "  0.4592211842536926],\n",
       " 'task_output_3_loss': [0.22331805527210236,\n",
       "  0.21611793339252472,\n",
       "  0.21906696259975433],\n",
       " 'task_output_4_loss': [0.40136849880218506,\n",
       "  0.3599816560745239,\n",
       "  0.36962082982063293],\n",
       " 'task_output_5_loss': [0.16146691143512726,\n",
       "  0.14995016157627106,\n",
       "  0.14148077368736267],\n",
       " 'task_output_6_loss': [0.2625294029712677,\n",
       "  0.21241885423660278,\n",
       "  0.21846213936805725],\n",
       " 'task_output_7_loss': [0.19377577304840088,\n",
       "  0.2128155380487442,\n",
       "  0.18383793532848358],\n",
       " 'task_output_8_loss': [0.11379347741603851,\n",
       "  0.09710204601287842,\n",
       "  0.09475613385438919],\n",
       " 'task_output_9_loss': [0.13682664930820465,\n",
       "  0.10678374767303467,\n",
       "  0.10549013316631317],\n",
       " 'task_output_10_loss': [0.5872793793678284,\n",
       "  0.5464224219322205,\n",
       "  0.5404291749000549],\n",
       " 'task_output_11_loss': [0.2659955322742462,\n",
       "  0.23643875122070312,\n",
       "  0.22539122402668],\n",
       " 'task_output_12_loss': [0.16173489391803741,\n",
       "  0.13878470659255981,\n",
       "  0.12510332465171814],\n",
       " 'task_output_13_loss': [0.08685414493083954,\n",
       "  0.06959202140569687,\n",
       "  0.07880749553442001],\n",
       " 'task_output_14_loss': [0.725881040096283,\n",
       "  0.679754912853241,\n",
       "  0.704760730266571],\n",
       " 'task_output_15_loss': [0.31182196736335754,\n",
       "  0.28107377886772156,\n",
       "  0.27162107825279236],\n",
       " 'task_output_1_accuracy': [0.733905553817749,\n",
       "  0.7968526482582092,\n",
       "  0.7968526482582092],\n",
       " 'task_output_2_accuracy': [0.832617998123169,\n",
       "  0.8469241857528687,\n",
       "  0.8469241857528687],\n",
       " 'task_output_3_accuracy': [0.9399141669273376,\n",
       "  0.9484978318214417,\n",
       "  0.9484978318214417],\n",
       " 'task_output_4_accuracy': [0.8640915751457214,\n",
       "  0.8869814276695251,\n",
       "  0.8869814276695251],\n",
       " 'task_output_5_accuracy': [0.9599427580833435,\n",
       "  0.9728183150291443,\n",
       "  0.9728183150291443],\n",
       " 'task_output_6_accuracy': [0.9298998713493347,\n",
       "  0.9499284625053406,\n",
       "  0.9499284625053406],\n",
       " 'task_output_7_accuracy': [0.9556509256362915,\n",
       "  0.9570815563201904,\n",
       "  0.9570815563201904],\n",
       " 'task_output_8_accuracy': [0.9599427580833435,\n",
       "  0.9828326106071472,\n",
       "  0.9828326106071472],\n",
       " 'task_output_9_accuracy': [0.9713876843452454,\n",
       "  0.9785407781600952,\n",
       "  0.9785407781600952],\n",
       " 'task_output_10_accuracy': [0.7668097019195557,\n",
       "  0.7811158895492554,\n",
       "  0.7882689833641052],\n",
       " 'task_output_11_accuracy': [0.9356223344802856,\n",
       "  0.9470672607421875,\n",
       "  0.9470672607421875],\n",
       " 'task_output_12_accuracy': [0.9742489457130432,\n",
       "  0.9742489457130432,\n",
       "  0.9742489457130432],\n",
       " 'task_output_13_accuracy': [0.9828326106071472,\n",
       "  0.9871244430541992,\n",
       "  0.9871244430541992],\n",
       " 'task_output_14_accuracy': [0.5865522027015686,\n",
       "  0.6137338876724243,\n",
       "  0.5879828333854675],\n",
       " 'task_output_15_accuracy': [0.9241774082183838,\n",
       "  0.9241774082183838,\n",
       "  0.9241774082183838],\n",
       " 'val_loss': [4.250551223754883, 4.167954444885254, 4.24556303024292],\n",
       " 'val_task_output_1_loss': [0.5271831154823303,\n",
       "  0.5488187670707703,\n",
       "  0.5365676879882812],\n",
       " 'val_task_output_2_loss': [0.503609299659729,\n",
       "  0.43966996669769287,\n",
       "  0.5832961797714233],\n",
       " 'val_task_output_3_loss': [0.15552496910095215,\n",
       "  0.1823781132698059,\n",
       "  0.14531096816062927],\n",
       " 'val_task_output_4_loss': [0.3602416217327118,\n",
       "  0.3451606333255768,\n",
       "  0.3428107798099518],\n",
       " 'val_task_output_5_loss': [0.10392902046442032,\n",
       "  0.09879911690950394,\n",
       "  0.1101822629570961],\n",
       " 'val_task_output_6_loss': [0.19894444942474365,\n",
       "  0.20054613053798676,\n",
       "  0.2058558613061905],\n",
       " 'val_task_output_7_loss': [0.20203903317451477,\n",
       "  0.2015628218650818,\n",
       "  0.20036406815052032],\n",
       " 'val_task_output_8_loss': [0.11503894627094269,\n",
       "  0.10694419592618942,\n",
       "  0.10766772925853729],\n",
       " 'val_task_output_9_loss': [0.09816684573888779,\n",
       "  0.10117325186729431,\n",
       "  0.10064256936311722],\n",
       " 'val_task_output_10_loss': [0.5987367033958435,\n",
       "  0.5347707867622375,\n",
       "  0.5486618280410767],\n",
       " 'val_task_output_11_loss': [0.18050622940063477,\n",
       "  0.16184699535369873,\n",
       "  0.14703014492988586],\n",
       " 'val_task_output_12_loss': [0.1784127652645111,\n",
       "  0.18846189975738525,\n",
       "  0.18439656496047974],\n",
       " 'val_task_output_13_loss': [0.08541815727949142,\n",
       "  0.09107466042041779,\n",
       "  0.08477409929037094],\n",
       " 'val_task_output_14_loss': [0.6446731090545654,\n",
       "  0.6695771813392639,\n",
       "  0.653239369392395],\n",
       " 'val_task_output_15_loss': [0.29812657833099365,\n",
       "  0.2971701920032501,\n",
       "  0.2947629690170288],\n",
       " 'val_task_output_1_accuracy': [0.7799999713897705,\n",
       "  0.7799999713897705,\n",
       "  0.7799999713897705],\n",
       " 'val_task_output_2_accuracy': [0.8399999737739563,\n",
       "  0.8399999737739563,\n",
       "  0.8399999737739563],\n",
       " 'val_task_output_3_accuracy': [0.9700000286102295,\n",
       "  0.9700000286102295,\n",
       "  0.9700000286102295],\n",
       " 'val_task_output_4_accuracy': [0.8999999761581421,\n",
       "  0.8999999761581421,\n",
       "  0.8999999761581421],\n",
       " 'val_task_output_5_accuracy': [0.9800000190734863,\n",
       "  0.9800000190734863,\n",
       "  0.9800000190734863],\n",
       " 'val_task_output_6_accuracy': [0.949999988079071,\n",
       "  0.949999988079071,\n",
       "  0.949999988079071],\n",
       " 'val_task_output_7_accuracy': [0.949999988079071,\n",
       "  0.949999988079071,\n",
       "  0.949999988079071],\n",
       " 'val_task_output_8_accuracy': [0.9800000190734863,\n",
       "  0.9800000190734863,\n",
       "  0.9800000190734863],\n",
       " 'val_task_output_9_accuracy': [0.9800000190734863,\n",
       "  0.9800000190734863,\n",
       "  0.9800000190734863],\n",
       " 'val_task_output_10_accuracy': [0.7766666412353516,\n",
       "  0.7766666412353516,\n",
       "  0.7766666412353516],\n",
       " 'val_task_output_11_accuracy': [0.9666666388511658,\n",
       "  0.9666666388511658,\n",
       "  0.9666666388511658],\n",
       " 'val_task_output_12_accuracy': [0.9566666483879089,\n",
       "  0.9566666483879089,\n",
       "  0.9566666483879089],\n",
       " 'val_task_output_13_accuracy': [0.9833333492279053,\n",
       "  0.9833333492279053,\n",
       "  0.9833333492279053],\n",
       " 'val_task_output_14_accuracy': [0.6600000262260437,\n",
       "  0.6600000262260437,\n",
       "  0.6600000262260437],\n",
       " 'val_task_output_15_accuracy': [0.9133333563804626,\n",
       "  0.9133333563804626,\n",
       "  0.9133333563804626]}"
      ]
     },
     "execution_count": 270,
     "metadata": {},
     "output_type": "execute_result"
    }
   ],
   "source": [
    "history.history"
   ]
  },
  {
   "cell_type": "code",
   "execution_count": 271,
   "id": "884e6fa7",
   "metadata": {},
   "outputs": [
    {
     "data": {
      "image/png": "[encoded data removed]",
      "text/plain": [
       "<Figure size 1000x1000 with 1 Axes>"
      ]
     },
     "metadata": {},
     "output_type": "display_data"
    }
   ],
   "source": [
    "import matplotlib.pyplot as plt\n",
    "\n",
    "plt.figure(figsize=(10, 10))\n",
    "plt.title('Accuracy')\n",
    "\n",
    "xaxis = np.arange(len(history.history['task_output_1_accuracy']))\n",
    "plt.plot(xaxis, history.history['task_output_1_accuracy'], label='Task 1 - Train set')\n",
    "plt.plot(xaxis, history.history['val_task_output_1_accuracy'], label='Task 1 - Validation set')\n",
    "\n",
    "plt.plot(xaxis, history.history['task_output_2_accuracy'], label='Task 2 - Train set')\n",
    "plt.plot(xaxis, history.history['val_task_output_1_accuracy'], label='Task 2 - Validation set')\n",
    "\n",
    "plt.plot(xaxis, history.history['task_output_3_accuracy'], label='Task 3 - Train set')\n",
    "plt.plot(xaxis, history.history['val_task_output_1_accuracy'], label='Task 3 - Validation set')\n",
    "\n",
    "plt.plot(xaxis, history.history['task_output_4_accuracy'], label='Task 4 - Train set')\n",
    "plt.plot(xaxis, history.history['val_task_output_1_accuracy'], label='Task 4 - Validation set')\n",
    "\n",
    "plt.plot(xaxis, history.history['task_output_5_accuracy'], label='Task 5 - Train set')\n",
    "plt.plot(xaxis, history.history['val_task_output_5_accuracy'], label='Task 5 - Validation set')\n",
    "\n",
    "plt.plot(xaxis, history.history['task_output_6_accuracy'], label='Task 6 - Train set')\n",
    "plt.plot(xaxis, history.history['val_task_output_6_accuracy'], label='Task 6 - Validation set')\n",
    "\n",
    "plt.plot(xaxis, history.history['task_output_7_accuracy'], label='Task 7 - Train set')\n",
    "plt.plot(xaxis, history.history['val_task_output_7_accuracy'], label='Task 7 - Validation set')\n",
    "\n",
    "\n",
    "plt.plot(xaxis, history.history['task_output_8_accuracy'], label='Task 8 - Train set')\n",
    "plt.plot(xaxis, history.history['val_task_output_8_accuracy'], label='Task 8 - Validation set')\n",
    "\n",
    "plt.plot(xaxis, history.history['task_output_9_accuracy'], label='Task 9 - Train set')\n",
    "plt.plot(xaxis, history.history['val_task_output_9_accuracy'], label='Task 9 - Validation set')\n",
    "\n",
    "plt.plot(xaxis, history.history['task_output_10_accuracy'], label='Task 10 - Train set')\n",
    "plt.plot(xaxis, history.history['val_task_output_10_accuracy'], label='Task 10 - Validation set')\n",
    "\n",
    "plt.plot(xaxis, history.history['task_output_11_accuracy'], label='Task 11 - Train set')\n",
    "plt.plot(xaxis, history.history['val_task_output_11_accuracy'], label='Task 11 - Validation set')\n",
    "\n",
    "plt.plot(xaxis, history.history['task_output_12_accuracy'], label='Task 12 - Train set')\n",
    "plt.plot(xaxis, history.history['val_task_output_12_accuracy'], label='Task 12 - Validation set')\n",
    "\n",
    "\n",
    "plt.plot(xaxis, history.history['task_output_13_accuracy'], label='Task 13 - Train set')\n",
    "plt.plot(xaxis, history.history['val_task_output_13_accuracy'], label='Task 13 - Validation set')\n",
    "\n",
    "plt.plot(xaxis, history.history['task_output_14_accuracy'], label='Task 14 - Train set')\n",
    "plt.plot(xaxis, history.history['val_task_output_14_accuracy'], label='Task 14 - Validation set')\n",
    "\n",
    "\n",
    "plt.xlabel('Epochs')\n",
    "plt.ylabel('Accuracy')\n",
    "plt.legend()\n",
    "plt.show()"
   ]
  },
  {
   "cell_type": "code",
   "execution_count": null,
   "id": "e6027ac2",
   "metadata": {},
   "outputs": [],
   "source": []
  },
  {
   "cell_type": "code",
   "execution_count": null,
   "id": "198b2b3b",
   "metadata": {},
   "outputs": [],
   "source": []
  }
 ],
 "metadata": {
  "kernelspec": {
   "display_name": "Python 3 (ipykernel)",
   "language": "python",
   "name": "python3"
  },
  "language_info": {
   "codemirror_mode": {
    "name": "ipython",
    "version": 3
   },
   "file_extension": ".py",
   "mimetype": "text/x-python",
   "name": "python",
   "nbconvert_exporter": "python",
   "pygments_lexer": "ipython3",
   "version": "3.10.9"
  }
 },
 "nbformat": 4,
 "nbformat_minor": 5
}
