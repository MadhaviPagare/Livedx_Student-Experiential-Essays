{
 "cells": [
  {
   "cell_type": "code",
   "execution_count": 1,
   "id": "f3f94e4c",
   "metadata": {},
   "outputs": [
    {
     "name": "stdout",
     "output_type": "stream",
     "text": [
      "Requirement already satisfied: pyenchant in c:\\users\\madha\\anaconda3\\anaconda\\lib\\site-packages (3.2.2)\n"
     ]
    }
   ],
   "source": [
    "!pip install pyenchant\n"
   ]
  },
  {
   "cell_type": "code",
   "execution_count": null,
   "id": "a50ce950",
   "metadata": {},
   "outputs": [],
   "source": [
    "import enchant\n",
    "import pandas as pd\n",
    "\n",
    "def convert_to_british_english(text):\n",
    "    # Create an instance of the British English dictionary\n",
    "    d = enchant.Dict(\"en_GB\")\n",
    "    \n",
    "    # Split the text into individual words\n",
    "    words = text.split()\n",
    "    \n",
    "    # Iterate over each word and convert it to British English if possible\n",
    "    converted_words = []\n",
    "    for word in words:\n",
    "        # Check if the word is already in British English\n",
    "        if d.check(word):\n",
    "            converted_words.append(word)\n",
    "        else:\n",
    "            # If the word is not in British English, try to suggest a British English alternative\n",
    "            suggestions = d.suggest(word)\n",
    "            \n",
    "            # If suggestions are available, use the first suggestion as the converted word\n",
    "            if suggestions:\n",
    "                converted_words.append(suggestions[0])\n",
    "            else:\n",
    "                # If no suggestions are available, keep the original word\n",
    "                converted_words.append(word)\n",
    "    \n",
    "    # Join the converted words back into a single string\n",
    "    converted_text = ' '.join(converted_words)\n",
    "    \n",
    "    return converted_text\n",
    "\n",
    "# Read the .csv file using pandas\n",
    "data = pd.read_csv('C:/Users/...../TEXTS-USTOUK_CONVERSION.csv')\n",
    "\n",
    "# Assuming the text column in the .csv file is named 'text'\n",
    "data['text_uk'] = data['text'].apply(convert_to_british_english)\n",
    "\n",
    "# Save the updated data to a new .csv file\n",
    "data.to_csv('C:/Users/....../Aconverted_file.csv', index=False)\n"
   ]
  },
  {
   "cell_type": "code",
   "execution_count": null,
   "id": "a0fcf5fc",
   "metadata": {},
   "outputs": [],
   "source": []
  }
 ],
 "metadata": {
  "kernelspec": {
   "display_name": "Python 3 (ipykernel)",
   "language": "python",
   "name": "python3"
  },
  "language_info": {
   "codemirror_mode": {
    "name": "ipython",
    "version": 3
   },
   "file_extension": ".py",
   "mimetype": "text/x-python",
   "name": "python",
   "nbconvert_exporter": "python",
   "pygments_lexer": "ipython3",
   "version": "3.10.9"
  }
 },
 "nbformat": 4,
 "nbformat_minor": 5
}
