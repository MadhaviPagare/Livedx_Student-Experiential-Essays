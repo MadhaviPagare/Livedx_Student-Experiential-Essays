{
 "cells": [
  {
   "cell_type": "code",
   "execution_count": 1,
   "id": "e2d5d2bb",
   "metadata": {},
   "outputs": [],
   "source": [
    "import pandas as pd\n",
    "from scipy.stats import pointbiserialr\n"
   ]
  },
  {
   "cell_type": "code",
   "execution_count": null,
   "id": "5a41256a",
   "metadata": {},
   "outputs": [],
   "source": [
    "\n",
    "# Read the CSV files\n",
    "chatgpt_df = pd.read_csv('C:/Users/../chatgpt_labels.csv')\n",
    "human_df = pd.read_csv('C:/Users/../human_labels.csv')"
   ]
  },
  {
   "cell_type": "code",
   "execution_count": 3,
   "id": "62f2a247",
   "metadata": {},
   "outputs": [
    {
     "name": "stdout",
     "output_type": "stream",
     "text": [
      "Correlation for Task1: 0.5061289948397415\n",
      "Correlation for Task2: 0.35394568548408983\n",
      "Correlation for Task3: 0.3824427472840606\n",
      "Correlation for Task4: 0.7218058041018864\n",
      "Correlation for Task5: 0.48518847367275214\n",
      "Correlation for Task6: 0.3957390442665282\n",
      "Correlation for Task7: 0.5049603438614272\n",
      "Correlation for Task8: 0.31031022139156667\n",
      "Correlation for Task9: 0.30565196960337826\n",
      "Correlation for Task10: 0.5206299312259955\n",
      "Correlation for Task11: 0.4171900289645225\n",
      "Correlation for Task12: 0.4007597973873629\n",
      "Correlation for Task13: 0.47704121136007027\n",
      "Correlation for Task14: 0.27551669942804735\n"
     ]
    }
   ],
   "source": [
    "\n",
    "\n",
    "# Select the relevant columns for analysis\n",
    "chatgpt_labels = chatgpt_df.loc[:, 'Task1':'Task14']\n",
    "human_labels = human_df.loc[:, 'Task1':'Task14']\n",
    "\n",
    "# Convert binary values to boolean\n",
    "chatgpt_labels = chatgpt_labels.astype(bool)\n",
    "human_labels = human_labels.astype(bool)\n",
    "\n",
    "# Calculate the correlation coefficients for each task\n",
    "correlations = {}\n",
    "for task in chatgpt_labels.columns:\n",
    "    chatgpt_values = chatgpt_labels[task]\n",
    "    human_values = human_labels[task]\n",
    "    correlation, _ = pointbiserialr(chatgpt_values, human_values)\n",
    "    correlations[task] = correlation\n",
    "\n",
    "# Print the correlation coefficients\n",
    "for task, correlation in correlations.items():\n",
    "    print(f'Correlation for {task}: {correlation}')\n"
   ]
  },
  {
   "cell_type": "code",
   "execution_count": null,
   "id": "9bdec4f3",
   "metadata": {},
   "outputs": [],
   "source": []
  }
 ],
 "metadata": {
  "kernelspec": {
   "display_name": "Python 3 (ipykernel)",
   "language": "python",
   "name": "python3"
  },
  "language_info": {
   "codemirror_mode": {
    "name": "ipython",
    "version": 3
   },
   "file_extension": ".py",
   "mimetype": "text/x-python",
   "name": "python",
   "nbconvert_exporter": "python",
   "pygments_lexer": "ipython3",
   "version": "3.10.9"
  }
 },
 "nbformat": 4,
 "nbformat_minor": 5
}
